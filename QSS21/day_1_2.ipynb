{
 "metadata": {
  "language_info": {
   "codemirror_mode": {
    "name": "ipython",
    "version": 3
   },
   "file_extension": ".py",
   "mimetype": "text/x-python",
   "name": "python",
   "nbconvert_exporter": "python",
   "pygments_lexer": "ipython3",
   "version": "3.9.5"
  },
  "orig_nbformat": 4,
  "kernelspec": {
   "name": "python3",
   "display_name": "Python 3.9.5 64-bit ('qiskit': conda)"
  },
  "interpreter": {
   "hash": "77376bfcf204d720c875ec388b8a00e9ab97084e7e7d4d073e071ae3fccf74ec"
  }
 },
 "nbformat": 4,
 "nbformat_minor": 2,
 "cells": [
  {
   "source": [
    "# Qiskit Summer School 2021\n",
    "## Day 1 Lecture 2\n",
    "\n",
    "\n",
    "These are my personal notes & interpretations of the lectures done on the first day of the 2021 Qiskit summer school."
   ],
   "cell_type": "markdown",
   "metadata": {}
  },
  {
   "cell_type": "code",
   "execution_count": 1,
   "metadata": {},
   "outputs": [],
   "source": [
    "import numpy as np\n",
    "from qiskit import QuantumCircuit, transpile\n",
    "from qiskit.providers.aer import QasmSimulator\n",
    "from qiskit.visualization import plot_histogram\n"
   ]
  },
  {
   "source": [
    "### Lecture 1.2 \n",
    "\n",
    "$$\n",
    "\\newcommand{\\ket}[1]{\\left|{#1}\\right\\rangle}\n",
    "\\newcommand{\\bra}[1]{\\left\\langle{#1}\\right|}\n",
    "\\newcommand{\\braket}[2]{\\left\\langle{#1}\\middle|{#2}\\right\\rangle}\n",
    "\\newcommand{\\ketbra}[2]{\\left|{#1}\\middle\\rangle\\langle{#2}\\right|}\n",
    "$$\n",
    "\n",
    "### Quantum Circuits\n",
    "\n",
    "#### Single qubit gates\n",
    "\n",
    "As quantum theory is _unitary_, all quantum gates are represented by unitary matrices, so that $U^\\dagger U = I$, where $I$ is an unitary matrix of size $m \\times m$\n",
    "\n",
    "$$\n",
    "I \\in R^{2\\times2} := \\begin{pmatrix}1 & 0 \\\\ 0 & 1\\end{pmatrix}\n",
    "$$\n",
    "\n",
    "_**Pauli X Gate**_\n",
    "\n",
    "$$\n",
    "\\sigma_X = \\begin{pmatrix}0 & 1 \\\\ 1 & 0\\end{pmatrix} = \\ketbra{0}{1} + \\ketbra{1}{0}\n",
    "$$\n",
    "\n",
    "This gate applies a rotation around the _x-axis_ by $\\pi$. In comparison to classical gates, it is a _bit flip_, ergo a NOT-Gate\n",
    "\n",
    "\n",
    "_**Pauli Z Gate**_\n",
    "\n",
    "$$\n",
    "\\sigma_Z = \\begin{pmatrix}1 & 0 \\\\ 0 & -1\\end{pmatrix} = \\ketbra{0}{0} - \\ketbra{1}{1}\n",
    "$$\n",
    "\n",
    "This gate applies a rotation around the _z-axis_ by $\\pi$, so it's a _phase flip_\n",
    "\n",
    "_**Pauli Y Gate**_\n",
    "\n",
    "$$\n",
    "\\sigma_Y = \\begin{pmatrix}0 & -i \\\\ i & 0\\end{pmatrix} = i \\cdot \\sigma_X \\cdot \\sigma_Z\n",
    "$$\n",
    "\n",
    "This gate applies a rotation around the _z-axis_ and _x-axis_, so it's a _bit & phase flip_\n",
    "\n",
    "_**Hadamard gate**_\n",
    "\n",
    "$$\n",
    "H = \\frac{1}{\\sqrt{2}}\\begin{pmatrix}1 & 1 \\\\ 1 & -1\\end{pmatrix} = \\frac{1}{\\sqrt{2}}(\\ketbra{0}{0} + \\ketbra{0}{1} + \\ketbra{1}{0} - \\ketbra{1}{1})\n",
    "$$\n",
    "\n",
    "The Hadamard gate creates a superposition. It can also be used to change between $X$ and $Z$ basis, i.e.\n",
    "\n",
    "$$\n",
    "H\\ket{+} = \\ket{0} \\\\\n",
    "H\\ket{-} = \\ket{1}\n",
    "$$\n",
    "\n",
    "In a similar fashion, $S \\cdot H$ can be used to change from $Z$ to $Y$ basis. $S$ by itself adds $90°$ to the phase $\\varphi$:\n",
    "$$\n",
    "S = \\begin{pmatrix}1 & 0 \\\\ 0 & i\\end{pmatrix} \\\\\n",
    "S\\ket{+} = \\ket{+i} \\\\\n",
    "S\\ket{-} = \\ket{-i}\\\\\n",
    "$$\n",
    "\n",
    "\n",
    "_Sidenote:_\n",
    "\n",
    "Quantum Gates are, in comparison to the classical gates, _not instantaneous_. We like to idealize as if the gates are instantaneous, but they take some time as the _state_ has to move trough the _Hilbert space_ to reach its new \"spot\"\n"
   ],
   "cell_type": "markdown",
   "metadata": {}
  },
  {
   "cell_type": "code",
   "execution_count": 9,
   "metadata": {},
   "outputs": [
    {
     "output_type": "display_data",
     "data": {
      "text/plain": "<Figure size 133.526x144.48 with 1 Axes>",
      "image/svg+xml": "<?xml version=\"1.0\" encoding=\"utf-8\" standalone=\"no\"?>\n<!DOCTYPE svg PUBLIC \"-//W3C//DTD SVG 1.1//EN\"\n  \"http://www.w3.org/Graphics/SVG/1.1/DTD/svg11.dtd\">\n<svg height=\"123.4824pt\" version=\"1.1\" viewBox=\"0 0 115.212136 123.4824\" width=\"115.212136pt\" xmlns=\"http://www.w3.org/2000/svg\" xmlns:xlink=\"http://www.w3.org/1999/xlink\">\n <metadata>\n  <rdf:RDF xmlns:cc=\"http://creativecommons.org/ns#\" xmlns:dc=\"http://purl.org/dc/elements/1.1/\" xmlns:rdf=\"http://www.w3.org/1999/02/22-rdf-syntax-ns#\">\n   <cc:Work>\n    <dc:type rdf:resource=\"http://purl.org/dc/dcmitype/StillImage\"/>\n    <dc:date>2021-07-14T21:57:37.040600</dc:date>\n    <dc:format>image/svg+xml</dc:format>\n    <dc:creator>\n     <cc:Agent>\n      <dc:title>Matplotlib v3.4.2, https://matplotlib.org/</dc:title>\n     </cc:Agent>\n    </dc:creator>\n   </cc:Work>\n  </rdf:RDF>\n </metadata>\n <defs>\n  <style type=\"text/css\">*{stroke-linecap:butt;stroke-linejoin:round;}</style>\n </defs>\n <g id=\"figure_1\">\n  <g id=\"patch_1\">\n   <path d=\"M 0 123.4824 \nL 115.212136 123.4824 \nL 115.212136 0 \nL 0 0 \nz\n\" style=\"fill:#ffffff;\"/>\n  </g>\n  <g id=\"axes_1\">\n   <g id=\"line2d_1\">\n    <path clip-path=\"url(#p5853d337bb)\" d=\"M 53.470936 43.5608 \nL 103.467036 43.5608 \n\" style=\"fill:none;stroke:#000000;stroke-linecap:square;stroke-width:2;\"/>\n   </g>\n   <g id=\"line2d_2\">\n    <path clip-path=\"url(#p5853d337bb)\" d=\"M 53.470936 87.534643 \nL 103.467036 87.534643 \n\" style=\"fill:none;stroke:#778899;stroke-linecap:square;stroke-width:2;\"/>\n   </g>\n   <g id=\"line2d_3\">\n    <path clip-path=\"url(#p5853d337bb)\" d=\"M 53.470936 90.488958 \nL 103.467036 90.488958 \n\" style=\"fill:none;stroke:#778899;stroke-linecap:square;stroke-width:2;\"/>\n   </g>\n   <g id=\"patch_2\">\n    <path clip-path=\"url(#p5853d337bb)\" d=\"M 63.242901 58.332375 \nL 92.786051 58.332375 \nL 92.786051 28.789225 \nL 63.242901 28.789225 \nz\n\" style=\"fill:#05bab6;stroke:#05bab6;stroke-linejoin:miter;stroke-width:1.5;\"/>\n   </g>\n   <g id=\"text_1\">\n    <g clip-path=\"url(#p5853d337bb)\">\n     <!-- X -->\n     <g transform=\"translate(73.561976 47.147988)scale(0.13 -0.13)\">\n      <defs>\n       <path d=\"M 403 4666 \nL 1081 4666 \nL 2241 2931 \nL 3406 4666 \nL 4084 4666 \nL 2584 2425 \nL 4184 0 \nL 3506 0 \nL 2194 1984 \nL 872 0 \nL 191 0 \nL 1856 2491 \nL 403 4666 \nz\n\" id=\"DejaVuSans-58\" transform=\"scale(0.015625)\"/>\n      </defs>\n      <use xlink:href=\"#DejaVuSans-58\"/>\n     </g>\n    </g>\n   </g>\n   <g id=\"text_2\">\n    <g clip-path=\"url(#p5853d337bb)\">\n     <!-- q -->\n     <g transform=\"translate(34.064525 48.044784)scale(0.1625 -0.1625)\">\n      <defs>\n       <path d=\"M 947 1747 \nQ 947 1113 1208 752 \nQ 1469 391 1925 391 \nQ 2381 391 2643 752 \nQ 2906 1113 2906 1747 \nQ 2906 2381 2643 2742 \nQ 2381 3103 1925 3103 \nQ 1469 3103 1208 2742 \nQ 947 2381 947 1747 \nz\nM 2906 525 \nQ 2725 213 2448 61 \nQ 2172 -91 1784 -91 \nQ 1150 -91 751 415 \nQ 353 922 353 1747 \nQ 353 2572 751 3078 \nQ 1150 3584 1784 3584 \nQ 2172 3584 2448 3432 \nQ 2725 3281 2906 2969 \nL 2906 3500 \nL 3481 3500 \nL 3481 -1331 \nL 2906 -1331 \nL 2906 525 \nz\n\" id=\"DejaVuSans-71\" transform=\"scale(0.015625)\"/>\n      </defs>\n      <use xlink:href=\"#DejaVuSans-71\"/>\n     </g>\n    </g>\n   </g>\n   <g id=\"text_3\">\n    <g clip-path=\"url(#p5853d337bb)\">\n     <!-- c -->\n     <g transform=\"translate(35.445775 93.495784)scale(0.1625 -0.1625)\">\n      <defs>\n       <path d=\"M 3122 3366 \nL 3122 2828 \nQ 2878 2963 2633 3030 \nQ 2388 3097 2138 3097 \nQ 1578 3097 1268 2742 \nQ 959 2388 959 1747 \nQ 959 1106 1268 751 \nQ 1578 397 2138 397 \nQ 2388 397 2633 464 \nQ 2878 531 3122 666 \nL 3122 134 \nQ 2881 22 2623 -34 \nQ 2366 -91 2075 -91 \nQ 1284 -91 818 406 \nQ 353 903 353 1747 \nQ 353 2603 823 3093 \nQ 1294 3584 2113 3584 \nQ 2378 3584 2631 3529 \nQ 2884 3475 3122 3366 \nz\n\" id=\"DejaVuSans-63\" transform=\"scale(0.015625)\"/>\n      </defs>\n      <use xlink:href=\"#DejaVuSans-63\"/>\n     </g>\n    </g>\n   </g>\n  </g>\n </g>\n <defs>\n  <clipPath id=\"p5853d337bb\">\n   <rect height=\"109.0824\" width=\"100.812136\" x=\"7.2\" y=\"7.2\"/>\n  </clipPath>\n </defs>\n</svg>\n",
      "image/png": "[encoded data removed]"
     },
     "metadata": {}
    }
   ],
   "source": [
    "\n",
    "# Previously talked about gates as circuits:\n",
    "# Pauli X\n",
    "circuit = QuantumCircuit(1,1)\n",
    "circuit.x(0)\n",
    "circuit.draw('mpl');\n",
    "\n"
   ]
  },
  {
   "cell_type": "code",
   "execution_count": 15,
   "metadata": {},
   "outputs": [
    {
     "output_type": "display_data",
     "data": {
      "text/plain": "<Figure size 133.526x144.48 with 1 Axes>",
      "image/svg+xml": "<?xml version=\"1.0\" encoding=\"utf-8\" standalone=\"no\"?>\n<!DOCTYPE svg PUBLIC \"-//W3C//DTD SVG 1.1//EN\"\n  \"http://www.w3.org/Graphics/SVG/1.1/DTD/svg11.dtd\">\n<svg height=\"123.4824pt\" version=\"1.1\" viewBox=\"0 0 115.212136 123.4824\" width=\"115.212136pt\" xmlns=\"http://www.w3.org/2000/svg\" xmlns:xlink=\"http://www.w3.org/1999/xlink\">\n <metadata>\n  <rdf:RDF xmlns:cc=\"http://creativecommons.org/ns#\" xmlns:dc=\"http://purl.org/dc/elements/1.1/\" xmlns:rdf=\"http://www.w3.org/1999/02/22-rdf-syntax-ns#\">\n   <cc:Work>\n    <dc:type rdf:resource=\"http://purl.org/dc/dcmitype/StillImage\"/>\n    <dc:date>2021-07-14T21:58:18.382031</dc:date>\n    <dc:format>image/svg+xml</dc:format>\n    <dc:creator>\n     <cc:Agent>\n      <dc:title>Matplotlib v3.4.2, https://matplotlib.org/</dc:title>\n     </cc:Agent>\n    </dc:creator>\n   </cc:Work>\n  </rdf:RDF>\n </metadata>\n <defs>\n  <style type=\"text/css\">*{stroke-linecap:butt;stroke-linejoin:round;}</style>\n </defs>\n <g id=\"figure_1\">\n  <g id=\"patch_1\">\n   <path d=\"M 0 123.4824 \nL 115.212136 123.4824 \nL 115.212136 0 \nL 0 0 \nz\n\" style=\"fill:#ffffff;\"/>\n  </g>\n  <g id=\"axes_1\">\n   <g id=\"line2d_1\">\n    <path clip-path=\"url(#pee74c9b957)\" d=\"M 53.470936 43.5608 \nL 103.467036 43.5608 \n\" style=\"fill:none;stroke:#000000;stroke-linecap:square;stroke-width:2;\"/>\n   </g>\n   <g id=\"line2d_2\">\n    <path clip-path=\"url(#pee74c9b957)\" d=\"M 53.470936 87.534643 \nL 103.467036 87.534643 \n\" style=\"fill:none;stroke:#778899;stroke-linecap:square;stroke-width:2;\"/>\n   </g>\n   <g id=\"line2d_3\">\n    <path clip-path=\"url(#pee74c9b957)\" d=\"M 53.470936 90.488958 \nL 103.467036 90.488958 \n\" style=\"fill:none;stroke:#778899;stroke-linecap:square;stroke-width:2;\"/>\n   </g>\n   <g id=\"patch_2\">\n    <path clip-path=\"url(#pee74c9b957)\" d=\"M 63.242901 58.332375 \nL 92.786051 58.332375 \nL 92.786051 28.789225 \nL 63.242901 28.789225 \nz\n\" style=\"fill:#05bab6;stroke:#05bab6;stroke-linejoin:miter;stroke-width:1.5;\"/>\n   </g>\n   <g id=\"text_1\">\n    <g clip-path=\"url(#pee74c9b957)\">\n     <!-- Y -->\n     <g transform=\"translate(74.044398 47.147988)scale(0.13 -0.13)\">\n      <defs>\n       <path d=\"M -13 4666 \nL 666 4666 \nL 1959 2747 \nL 3244 4666 \nL 3922 4666 \nL 2272 2222 \nL 2272 0 \nL 1638 0 \nL 1638 2222 \nL -13 4666 \nz\n\" id=\"DejaVuSans-59\" transform=\"scale(0.015625)\"/>\n      </defs>\n      <use xlink:href=\"#DejaVuSans-59\"/>\n     </g>\n    </g>\n   </g>\n   <g id=\"text_2\">\n    <g clip-path=\"url(#pee74c9b957)\">\n     <!-- q -->\n     <g transform=\"translate(34.064525 48.044784)scale(0.1625 -0.1625)\">\n      <defs>\n       <path d=\"M 947 1747 \nQ 947 1113 1208 752 \nQ 1469 391 1925 391 \nQ 2381 391 2643 752 \nQ 2906 1113 2906 1747 \nQ 2906 2381 2643 2742 \nQ 2381 3103 1925 3103 \nQ 1469 3103 1208 2742 \nQ 947 2381 947 1747 \nz\nM 2906 525 \nQ 2725 213 2448 61 \nQ 2172 -91 1784 -91 \nQ 1150 -91 751 415 \nQ 353 922 353 1747 \nQ 353 2572 751 3078 \nQ 1150 3584 1784 3584 \nQ 2172 3584 2448 3432 \nQ 2725 3281 2906 2969 \nL 2906 3500 \nL 3481 3500 \nL 3481 -1331 \nL 2906 -1331 \nL 2906 525 \nz\n\" id=\"DejaVuSans-71\" transform=\"scale(0.015625)\"/>\n      </defs>\n      <use xlink:href=\"#DejaVuSans-71\"/>\n     </g>\n    </g>\n   </g>\n   <g id=\"text_3\">\n    <g clip-path=\"url(#pee74c9b957)\">\n     <!-- c -->\n     <g transform=\"translate(35.445775 93.495784)scale(0.1625 -0.1625)\">\n      <defs>\n       <path d=\"M 3122 3366 \nL 3122 2828 \nQ 2878 2963 2633 3030 \nQ 2388 3097 2138 3097 \nQ 1578 3097 1268 2742 \nQ 959 2388 959 1747 \nQ 959 1106 1268 751 \nQ 1578 397 2138 397 \nQ 2388 397 2633 464 \nQ 2878 531 3122 666 \nL 3122 134 \nQ 2881 22 2623 -34 \nQ 2366 -91 2075 -91 \nQ 1284 -91 818 406 \nQ 353 903 353 1747 \nQ 353 2603 823 3093 \nQ 1294 3584 2113 3584 \nQ 2378 3584 2631 3529 \nQ 2884 3475 3122 3366 \nz\n\" id=\"DejaVuSans-63\" transform=\"scale(0.015625)\"/>\n      </defs>\n      <use xlink:href=\"#DejaVuSans-63\"/>\n     </g>\n    </g>\n   </g>\n  </g>\n </g>\n <defs>\n  <clipPath id=\"pee74c9b957\">\n   <rect height=\"109.0824\" width=\"100.812136\" x=\"7.2\" y=\"7.2\"/>\n  </clipPath>\n </defs>\n</svg>\n",
      "image/png": "[encoded data removed]"
     },
     "metadata": {}
    }
   ],
   "source": [
    "# Pauli y\n",
    "circuit = QuantumCircuit(1,1)\n",
    "circuit.y(0)\n",
    "circuit.draw('mpl');\n"
   ]
  },
  {
   "cell_type": "code",
   "execution_count": 14,
   "metadata": {},
   "outputs": [
    {
     "output_type": "display_data",
     "data": {
      "text/plain": "<Figure size 133.526x144.48 with 1 Axes>",
      "image/svg+xml": "<?xml version=\"1.0\" encoding=\"utf-8\" standalone=\"no\"?>\n<!DOCTYPE svg PUBLIC \"-//W3C//DTD SVG 1.1//EN\"\n  \"http://www.w3.org/Graphics/SVG/1.1/DTD/svg11.dtd\">\n<svg height=\"123.4824pt\" version=\"1.1\" viewBox=\"0 0 115.212136 123.4824\" width=\"115.212136pt\" xmlns=\"http://www.w3.org/2000/svg\" xmlns:xlink=\"http://www.w3.org/1999/xlink\">\n <metadata>\n  <rdf:RDF xmlns:cc=\"http://creativecommons.org/ns#\" xmlns:dc=\"http://purl.org/dc/elements/1.1/\" xmlns:rdf=\"http://www.w3.org/1999/02/22-rdf-syntax-ns#\">\n   <cc:Work>\n    <dc:type rdf:resource=\"http://purl.org/dc/dcmitype/StillImage\"/>\n    <dc:date>2021-07-14T21:58:16.611896</dc:date>\n    <dc:format>image/svg+xml</dc:format>\n    <dc:creator>\n     <cc:Agent>\n      <dc:title>Matplotlib v3.4.2, https://matplotlib.org/</dc:title>\n     </cc:Agent>\n    </dc:creator>\n   </cc:Work>\n  </rdf:RDF>\n </metadata>\n <defs>\n  <style type=\"text/css\">*{stroke-linecap:butt;stroke-linejoin:round;}</style>\n </defs>\n <g id=\"figure_1\">\n  <g id=\"patch_1\">\n   <path d=\"M 0 123.4824 \nL 115.212136 123.4824 \nL 115.212136 0 \nL 0 0 \nz\n\" style=\"fill:#ffffff;\"/>\n  </g>\n  <g id=\"axes_1\">\n   <g id=\"line2d_1\">\n    <path clip-path=\"url(#peb53cf6e45)\" d=\"M 53.470936 43.5608 \nL 103.467036 43.5608 \n\" style=\"fill:none;stroke:#000000;stroke-linecap:square;stroke-width:2;\"/>\n   </g>\n   <g id=\"line2d_2\">\n    <path clip-path=\"url(#peb53cf6e45)\" d=\"M 53.470936 87.534643 \nL 103.467036 87.534643 \n\" style=\"fill:none;stroke:#778899;stroke-linecap:square;stroke-width:2;\"/>\n   </g>\n   <g id=\"line2d_3\">\n    <path clip-path=\"url(#peb53cf6e45)\" d=\"M 53.470936 90.488958 \nL 103.467036 90.488958 \n\" style=\"fill:none;stroke:#778899;stroke-linecap:square;stroke-width:2;\"/>\n   </g>\n   <g id=\"patch_2\">\n    <path clip-path=\"url(#peb53cf6e45)\" d=\"M 63.242901 58.332375 \nL 92.786051 58.332375 \nL 92.786051 28.789225 \nL 63.242901 28.789225 \nz\n\" style=\"fill:#05bab6;stroke:#05bab6;stroke-linejoin:miter;stroke-width:1.5;\"/>\n   </g>\n   <g id=\"text_1\">\n    <g clip-path=\"url(#peb53cf6e45)\">\n     <!-- Z -->\n     <g transform=\"translate(73.561976 47.147988)scale(0.13 -0.13)\">\n      <defs>\n       <path d=\"M 359 4666 \nL 4025 4666 \nL 4025 4184 \nL 1075 531 \nL 4097 531 \nL 4097 0 \nL 288 0 \nL 288 481 \nL 3238 4134 \nL 359 4134 \nL 359 4666 \nz\n\" id=\"DejaVuSans-5a\" transform=\"scale(0.015625)\"/>\n      </defs>\n      <use xlink:href=\"#DejaVuSans-5a\"/>\n     </g>\n    </g>\n   </g>\n   <g id=\"text_2\">\n    <g clip-path=\"url(#peb53cf6e45)\">\n     <!-- q -->\n     <g transform=\"translate(34.064525 48.044784)scale(0.1625 -0.1625)\">\n      <defs>\n       <path d=\"M 947 1747 \nQ 947 1113 1208 752 \nQ 1469 391 1925 391 \nQ 2381 391 2643 752 \nQ 2906 1113 2906 1747 \nQ 2906 2381 2643 2742 \nQ 2381 3103 1925 3103 \nQ 1469 3103 1208 2742 \nQ 947 2381 947 1747 \nz\nM 2906 525 \nQ 2725 213 2448 61 \nQ 2172 -91 1784 -91 \nQ 1150 -91 751 415 \nQ 353 922 353 1747 \nQ 353 2572 751 3078 \nQ 1150 3584 1784 3584 \nQ 2172 3584 2448 3432 \nQ 2725 3281 2906 2969 \nL 2906 3500 \nL 3481 3500 \nL 3481 -1331 \nL 2906 -1331 \nL 2906 525 \nz\n\" id=\"DejaVuSans-71\" transform=\"scale(0.015625)\"/>\n      </defs>\n      <use xlink:href=\"#DejaVuSans-71\"/>\n     </g>\n    </g>\n   </g>\n   <g id=\"text_3\">\n    <g clip-path=\"url(#peb53cf6e45)\">\n     <!-- c -->\n     <g transform=\"translate(35.445775 93.495784)scale(0.1625 -0.1625)\">\n      <defs>\n       <path d=\"M 3122 3366 \nL 3122 2828 \nQ 2878 2963 2633 3030 \nQ 2388 3097 2138 3097 \nQ 1578 3097 1268 2742 \nQ 959 2388 959 1747 \nQ 959 1106 1268 751 \nQ 1578 397 2138 397 \nQ 2388 397 2633 464 \nQ 2878 531 3122 666 \nL 3122 134 \nQ 2881 22 2623 -34 \nQ 2366 -91 2075 -91 \nQ 1284 -91 818 406 \nQ 353 903 353 1747 \nQ 353 2603 823 3093 \nQ 1294 3584 2113 3584 \nQ 2378 3584 2631 3529 \nQ 2884 3475 3122 3366 \nz\n\" id=\"DejaVuSans-63\" transform=\"scale(0.015625)\"/>\n      </defs>\n      <use xlink:href=\"#DejaVuSans-63\"/>\n     </g>\n    </g>\n   </g>\n  </g>\n </g>\n <defs>\n  <clipPath id=\"peb53cf6e45\">\n   <rect height=\"109.0824\" width=\"100.812136\" x=\"7.2\" y=\"7.2\"/>\n  </clipPath>\n </defs>\n</svg>\n",
      "image/png": "[encoded data removed]"
     },
     "metadata": {}
    }
   ],
   "source": [
    "# Pauli z\n",
    "circuit = QuantumCircuit(1,1)\n",
    "circuit.z(0)\n",
    "circuit.draw('mpl');"
   ]
  },
  {
   "cell_type": "code",
   "execution_count": 13,
   "metadata": {},
   "outputs": [
    {
     "output_type": "display_data",
     "data": {
      "text/plain": "<Figure size 133.526x144.48 with 1 Axes>",
      "image/svg+xml": "<?xml version=\"1.0\" encoding=\"utf-8\" standalone=\"no\"?>\n<!DOCTYPE svg PUBLIC \"-//W3C//DTD SVG 1.1//EN\"\n  \"http://www.w3.org/Graphics/SVG/1.1/DTD/svg11.dtd\">\n<svg height=\"123.4824pt\" version=\"1.1\" viewBox=\"0 0 115.212136 123.4824\" width=\"115.212136pt\" xmlns=\"http://www.w3.org/2000/svg\" xmlns:xlink=\"http://www.w3.org/1999/xlink\">\n <metadata>\n  <rdf:RDF xmlns:cc=\"http://creativecommons.org/ns#\" xmlns:dc=\"http://purl.org/dc/elements/1.1/\" xmlns:rdf=\"http://www.w3.org/1999/02/22-rdf-syntax-ns#\">\n   <cc:Work>\n    <dc:type rdf:resource=\"http://purl.org/dc/dcmitype/StillImage\"/>\n    <dc:date>2021-07-14T21:58:14.431539</dc:date>\n    <dc:format>image/svg+xml</dc:format>\n    <dc:creator>\n     <cc:Agent>\n      <dc:title>Matplotlib v3.4.2, https://matplotlib.org/</dc:title>\n     </cc:Agent>\n    </dc:creator>\n   </cc:Work>\n  </rdf:RDF>\n </metadata>\n <defs>\n  <style type=\"text/css\">*{stroke-linecap:butt;stroke-linejoin:round;}</style>\n </defs>\n <g id=\"figure_1\">\n  <g id=\"patch_1\">\n   <path d=\"M 0 123.4824 \nL 115.212136 123.4824 \nL 115.212136 0 \nL 0 0 \nz\n\" style=\"fill:#ffffff;\"/>\n  </g>\n  <g id=\"axes_1\">\n   <g id=\"line2d_1\">\n    <path clip-path=\"url(#pa5c8c7fc33)\" d=\"M 53.470936 43.5608 \nL 103.467036 43.5608 \n\" style=\"fill:none;stroke:#000000;stroke-linecap:square;stroke-width:2;\"/>\n   </g>\n   <g id=\"line2d_2\">\n    <path clip-path=\"url(#pa5c8c7fc33)\" d=\"M 53.470936 87.534643 \nL 103.467036 87.534643 \n\" style=\"fill:none;stroke:#778899;stroke-linecap:square;stroke-width:2;\"/>\n   </g>\n   <g id=\"line2d_3\">\n    <path clip-path=\"url(#pa5c8c7fc33)\" d=\"M 53.470936 90.488958 \nL 103.467036 90.488958 \n\" style=\"fill:none;stroke:#778899;stroke-linecap:square;stroke-width:2;\"/>\n   </g>\n   <g id=\"patch_2\">\n    <path clip-path=\"url(#pa5c8c7fc33)\" d=\"M 63.242901 58.332375 \nL 92.786051 58.332375 \nL 92.786051 28.789225 \nL 63.242901 28.789225 \nz\n\" style=\"fill:#6fa4ff;stroke:#6fa4ff;stroke-linejoin:miter;stroke-width:1.5;\"/>\n   </g>\n   <g id=\"text_1\">\n    <g clip-path=\"url(#pa5c8c7fc33)\">\n     <!-- H -->\n     <g transform=\"translate(73.126273 47.147988)scale(0.13 -0.13)\">\n      <defs>\n       <path d=\"M 628 4666 \nL 1259 4666 \nL 1259 2753 \nL 3553 2753 \nL 3553 4666 \nL 4184 4666 \nL 4184 0 \nL 3553 0 \nL 3553 2222 \nL 1259 2222 \nL 1259 0 \nL 628 0 \nL 628 4666 \nz\n\" id=\"DejaVuSans-48\" transform=\"scale(0.015625)\"/>\n      </defs>\n      <use xlink:href=\"#DejaVuSans-48\"/>\n     </g>\n    </g>\n   </g>\n   <g id=\"text_2\">\n    <g clip-path=\"url(#pa5c8c7fc33)\">\n     <!-- q -->\n     <g transform=\"translate(34.064525 48.044784)scale(0.1625 -0.1625)\">\n      <defs>\n       <path d=\"M 947 1747 \nQ 947 1113 1208 752 \nQ 1469 391 1925 391 \nQ 2381 391 2643 752 \nQ 2906 1113 2906 1747 \nQ 2906 2381 2643 2742 \nQ 2381 3103 1925 3103 \nQ 1469 3103 1208 2742 \nQ 947 2381 947 1747 \nz\nM 2906 525 \nQ 2725 213 2448 61 \nQ 2172 -91 1784 -91 \nQ 1150 -91 751 415 \nQ 353 922 353 1747 \nQ 353 2572 751 3078 \nQ 1150 3584 1784 3584 \nQ 2172 3584 2448 3432 \nQ 2725 3281 2906 2969 \nL 2906 3500 \nL 3481 3500 \nL 3481 -1331 \nL 2906 -1331 \nL 2906 525 \nz\n\" id=\"DejaVuSans-71\" transform=\"scale(0.015625)\"/>\n      </defs>\n      <use xlink:href=\"#DejaVuSans-71\"/>\n     </g>\n    </g>\n   </g>\n   <g id=\"text_3\">\n    <g clip-path=\"url(#pa5c8c7fc33)\">\n     <!-- c -->\n     <g transform=\"translate(35.445775 93.495784)scale(0.1625 -0.1625)\">\n      <defs>\n       <path d=\"M 3122 3366 \nL 3122 2828 \nQ 2878 2963 2633 3030 \nQ 2388 3097 2138 3097 \nQ 1578 3097 1268 2742 \nQ 959 2388 959 1747 \nQ 959 1106 1268 751 \nQ 1578 397 2138 397 \nQ 2388 397 2633 464 \nQ 2878 531 3122 666 \nL 3122 134 \nQ 2881 22 2623 -34 \nQ 2366 -91 2075 -91 \nQ 1284 -91 818 406 \nQ 353 903 353 1747 \nQ 353 2603 823 3093 \nQ 1294 3584 2113 3584 \nQ 2378 3584 2631 3529 \nQ 2884 3475 3122 3366 \nz\n\" id=\"DejaVuSans-63\" transform=\"scale(0.015625)\"/>\n      </defs>\n      <use xlink:href=\"#DejaVuSans-63\"/>\n     </g>\n    </g>\n   </g>\n  </g>\n </g>\n <defs>\n  <clipPath id=\"pa5c8c7fc33\">\n   <rect height=\"109.0824\" width=\"100.812136\" x=\"7.2\" y=\"7.2\"/>\n  </clipPath>\n </defs>\n</svg>\n",
      "image/png": "[encoded data removed]"
     },
     "metadata": {}
    }
   ],
   "source": [
    "# Hadamard\n",
    "circuit = QuantumCircuit(1,1)\n",
    "circuit.h(0)\n",
    "circuit.draw('mpl');"
   ]
  },
  {
   "source": [
    "#### Multipartite quantum states\n",
    "\n",
    "To describe multiple states we use _tensor products_:\n",
    "\n",
    "$$\n",
    "\\ket{a} \\otimes \\ket{b} = \\begin{pmatrix}a_1 \\\\ a_2\\end{pmatrix} \\otimes \\begin{pmatrix}b_1 \\\\ b_2\\end{pmatrix} = \\begin{pmatrix}a_1b_1 \\\\ a_1b_2 \\\\ a_2b_1 \\\\ a_2b_2\\end{pmatrix}\n",
    "$$\n",
    "\n",
    "As example lets take the two systems $A$ and $B$. System $A$ is in state $\\ket{1}_A$ and System $B$ in state $\\ket{0}_B$. The bipartite state can be calculated as follows:\n",
    "\n",
    "$$\n",
    "\\ket{10}_{AB} = \\ket{1}_A \\otimes \\ket{0}_B = \\begin{pmatrix}0 \\\\ 1\\end{pmatrix} \\otimes \\begin{pmatrix}1 \\\\ 0\\end{pmatrix} = \\begin{pmatrix}0 \\\\ 0 \\\\ 1 \\\\0 \\end{pmatrix}\n",
    "$$\n",
    "\n",
    "States in this form are called _uncorrelated_. There also exists states that can not be expressed as $\\ket{\\psi}_A \\otimes \\ket{\\psi}_B$ which are called _correlated_ and sometimes even _entangled_, which means a _very strong correlation_. Example:\n",
    "\n",
    "$$\n",
    "\\ket{\\psi^{(00)}}_{AB} = \\frac{1}{\\sqrt{2}}(\\ket{00}_{AB} + \\ket{11}_{AB}) = \\frac{1}{\\sqrt{2}}\\begin{pmatrix}1 \\\\ 0 \\\\ 0 \\\\1\\end{pmatrix}\n",
    "$$\n",
    "\n"
   ],
   "cell_type": "markdown",
   "metadata": {}
  },
  {
   "source": [
    "#### Two qubit gates\n",
    "\n",
    "One classical example of a two bit gate would be the _XOR_ gate, that takes 2 inputs and gives one output. This process is irreversible as we cannot construct the inputs when we only have the output. As previously noted quantum theory is _unitary_, which means we use _reversible_ gates!\n",
    "\n",
    "One example of a 2 qubit gate would be the _CNOT_ gate, which stands for _Controller NOT_\n",
    "\n",
    "$$\n",
    "CNOT = \\begin{pmatrix}1 & 0 & 0 & 0 \\\\ 0 & 1 & 0 & 0\\\\ 0 & 0  & 0 & 1 \\\\0 & 0 & 1 & 0\\end{pmatrix} \\\\\n",
    "\\\\\n",
    "CNOT \\cdot \\ket{00} = CNOT \\cdot \\begin{pmatrix}1 \\\\ 0 \\\\ 0 \\\\ 0\\end{pmatrix} = \\ket{00} \\\\\n",
    "CNOT \\cdot \\ket{10} = CNOT \\cdot \\begin{pmatrix}0 \\\\ 0 \\\\ 1 \\\\ 0\\end{pmatrix} = \\ket{11} \\\\\n",
    "$$"
   ],
   "cell_type": "markdown",
   "metadata": {}
  },
  {
   "cell_type": "code",
   "execution_count": 12,
   "metadata": {},
   "outputs": [
    {
     "output_type": "display_data",
     "data": {
      "text/plain": "<Figure size 146.652x204.68 with 1 Axes>",
      "image/svg+xml": "<?xml version=\"1.0\" encoding=\"utf-8\" standalone=\"no\"?>\n<!DOCTYPE svg PUBLIC \"-//W3C//DTD SVG 1.1//EN\"\n  \"http://www.w3.org/Graphics/SVG/1.1/DTD/svg11.dtd\">\n<svg height=\"168.9334pt\" version=\"1.1\" viewBox=\"0 0 125.122272 168.9334\" width=\"125.122272pt\" xmlns=\"http://www.w3.org/2000/svg\" xmlns:xlink=\"http://www.w3.org/1999/xlink\">\n <metadata>\n  <rdf:RDF xmlns:cc=\"http://creativecommons.org/ns#\" xmlns:dc=\"http://purl.org/dc/elements/1.1/\" xmlns:rdf=\"http://www.w3.org/1999/02/22-rdf-syntax-ns#\">\n   <cc:Work>\n    <dc:type rdf:resource=\"http://purl.org/dc/dcmitype/StillImage\"/>\n    <dc:date>2021-07-14T21:58:11.188546</dc:date>\n    <dc:format>image/svg+xml</dc:format>\n    <dc:creator>\n     <cc:Agent>\n      <dc:title>Matplotlib v3.4.2, https://matplotlib.org/</dc:title>\n     </cc:Agent>\n    </dc:creator>\n   </cc:Work>\n  </rdf:RDF>\n </metadata>\n <defs>\n  <style type=\"text/css\">*{stroke-linecap:butt;stroke-linejoin:round;}</style>\n </defs>\n <g id=\"figure_1\">\n  <g id=\"patch_1\">\n   <path d=\"M 0 168.9334 \nL 125.122272 168.9334 \nL 125.122272 0 \nL 0 0 \nz\n\" style=\"fill:#ffffff;\"/>\n  </g>\n  <g id=\"axes_1\">\n   <g id=\"line2d_1\">\n    <path clip-path=\"url(#p5b7c0fc9ef)\" d=\"M 63.381072 43.5608 \nL 113.377172 43.5608 \n\" style=\"fill:none;stroke:#000000;stroke-linecap:square;stroke-width:2;\"/>\n   </g>\n   <g id=\"line2d_2\">\n    <path clip-path=\"url(#p5b7c0fc9ef)\" d=\"M 63.381072 89.0118 \nL 113.377172 89.0118 \n\" style=\"fill:none;stroke:#000000;stroke-linecap:square;stroke-width:2;\"/>\n   </g>\n   <g id=\"line2d_3\">\n    <path clip-path=\"url(#p5b7c0fc9ef)\" d=\"M 63.381072 132.985643 \nL 113.377172 132.985643 \n\" style=\"fill:none;stroke:#778899;stroke-linecap:square;stroke-width:2;\"/>\n   </g>\n   <g id=\"line2d_4\">\n    <path clip-path=\"url(#p5b7c0fc9ef)\" d=\"M 63.381072 135.939958 \nL 113.377172 135.939958 \n\" style=\"fill:none;stroke:#778899;stroke-linecap:square;stroke-width:2;\"/>\n   </g>\n   <g id=\"line2d_5\">\n    <path clip-path=\"url(#p5b7c0fc9ef)\" d=\"M 87.924612 89.0118 \nL 87.924612 43.5608 \n\" style=\"fill:none;stroke:#6fa4ff;stroke-linecap:square;stroke-width:2;\"/>\n   </g>\n   <g id=\"line2d_6\">\n    <path clip-path=\"url(#p5b7c0fc9ef)\" d=\"M 72.471272 139.0079 \nL 77.016372 129.9177 \n\" style=\"fill:none;stroke:#778899;stroke-linecap:square;stroke-width:1.5;\"/>\n   </g>\n   <g id=\"patch_2\">\n    <path clip-path=\"url(#p5b7c0fc9ef)\" d=\"M 87.924612 47.992273 \nC 89.099852 47.992273 90.227116 47.525345 91.058136 46.694324 \nC 91.889157 45.863304 92.356085 44.73604 92.356085 43.5608 \nC 92.356085 42.38556 91.889157 41.258296 91.058136 40.427276 \nC 90.227116 39.596255 89.099852 39.129328 87.924612 39.129328 \nC 86.749372 39.129328 85.622108 39.596255 84.791088 40.427276 \nC 83.960067 41.258296 83.49314 42.38556 83.49314 43.5608 \nC 83.49314 44.73604 83.960067 45.863304 84.791088 46.694324 \nC 85.622108 47.525345 86.749372 47.992273 87.924612 47.992273 \nz\n\" style=\"fill:#6fa4ff;stroke:#6fa4ff;stroke-linejoin:miter;stroke-width:1.5;\"/>\n   </g>\n   <g id=\"patch_3\">\n    <path clip-path=\"url(#p5b7c0fc9ef)\" d=\"M 87.924612 99.351903 \nC 90.666839 99.351903 93.297121 98.262404 95.236169 96.323357 \nC 97.175216 94.384309 98.264715 91.754027 98.264715 89.0118 \nC 98.264715 86.269573 97.175216 83.639291 95.236169 81.700243 \nC 93.297121 79.761196 90.666839 78.671698 87.924612 78.671698 \nC 85.182385 78.671698 82.552103 79.761196 80.613055 81.700243 \nC 78.674008 83.639291 77.58451 86.269573 77.58451 89.0118 \nC 77.58451 91.754027 78.674008 94.384309 80.613055 96.323357 \nC 82.552103 98.262404 85.182385 99.351903 87.924612 99.351903 \nz\n\" style=\"fill:#6fa4ff;stroke:#6fa4ff;stroke-linejoin:miter;stroke-width:2;\"/>\n   </g>\n   <g id=\"line2d_7\">\n    <path clip-path=\"url(#p5b7c0fc9ef)\" d=\"M 87.924612 94.92043 \nL 87.924612 83.10317 \n\" style=\"fill:none;stroke:#ffffff;stroke-linecap:square;stroke-width:2;\"/>\n   </g>\n   <g id=\"line2d_8\">\n    <path clip-path=\"url(#p5b7c0fc9ef)\" d=\"M 82.015982 89.0118 \nL 93.833242 89.0118 \n\" style=\"fill:none;stroke:#ffffff;stroke-linecap:square;stroke-width:2;\"/>\n   </g>\n   <g id=\"text_1\">\n    <g clip-path=\"url(#p5b7c0fc9ef)\">\n     <!-- ${q}_{0}$ -->\n     <g transform=\"translate(36.253372 48.011777)scale(0.1625 -0.1625)\">\n      <defs>\n       <path d=\"M 2669 525 \nQ 2438 222 2123 65 \nQ 1809 -91 1428 -91 \nQ 897 -91 595 267 \nQ 294 625 294 1253 \nQ 294 1759 480 2231 \nQ 666 2703 1013 3078 \nQ 1238 3322 1530 3453 \nQ 1822 3584 2144 3584 \nQ 2531 3584 2781 3431 \nQ 3031 3278 3144 2969 \nL 3244 3494 \nL 3822 3494 \nL 2888 -1319 \nL 2309 -1319 \nL 2669 525 \nz\nM 891 1338 \nQ 891 875 1084 633 \nQ 1278 391 1644 391 \nQ 2188 391 2572 911 \nQ 2956 1431 2956 2175 \nQ 2956 2625 2757 2864 \nQ 2559 3103 2188 3103 \nQ 1916 3103 1684 2976 \nQ 1453 2850 1281 2606 \nQ 1100 2350 995 2006 \nQ 891 1663 891 1338 \nz\n\" id=\"DejaVuSans-Oblique-71\" transform=\"scale(0.015625)\"/>\n       <path d=\"M 2034 4250 \nQ 1547 4250 1301 3770 \nQ 1056 3291 1056 2328 \nQ 1056 1369 1301 889 \nQ 1547 409 2034 409 \nQ 2525 409 2770 889 \nQ 3016 1369 3016 2328 \nQ 3016 3291 2770 3770 \nQ 2525 4250 2034 4250 \nz\nM 2034 4750 \nQ 2819 4750 3233 4129 \nQ 3647 3509 3647 2328 \nQ 3647 1150 3233 529 \nQ 2819 -91 2034 -91 \nQ 1250 -91 836 529 \nQ 422 1150 422 2328 \nQ 422 3509 836 4129 \nQ 1250 4750 2034 4750 \nz\n\" id=\"DejaVuSans-30\" transform=\"scale(0.015625)\"/>\n      </defs>\n      <use xlink:href=\"#DejaVuSans-Oblique-71\"/>\n      <use transform=\"translate(63.476562 -16.40625)scale(0.7)\" xlink:href=\"#DejaVuSans-30\"/>\n     </g>\n    </g>\n   </g>\n   <g id=\"text_2\">\n    <g clip-path=\"url(#p5b7c0fc9ef)\">\n     <!-- ${q}_{1}$ -->\n     <g transform=\"translate(36.253372 93.462777)scale(0.1625 -0.1625)\">\n      <defs>\n       <path d=\"M 794 531 \nL 1825 531 \nL 1825 4091 \nL 703 3866 \nL 703 4441 \nL 1819 4666 \nL 2450 4666 \nL 2450 531 \nL 3481 531 \nL 3481 0 \nL 794 0 \nL 794 531 \nz\n\" id=\"DejaVuSans-31\" transform=\"scale(0.015625)\"/>\n      </defs>\n      <use xlink:href=\"#DejaVuSans-Oblique-71\"/>\n      <use transform=\"translate(63.476562 -16.40625)scale(0.7)\" xlink:href=\"#DejaVuSans-31\"/>\n     </g>\n    </g>\n   </g>\n   <g id=\"text_3\">\n    <g clip-path=\"url(#p5b7c0fc9ef)\">\n     <!-- 2 -->\n     <g transform=\"translate(67.926172 127.754825)scale(0.104 -0.104)\">\n      <defs>\n       <path d=\"M 1228 531 \nL 3431 531 \nL 3431 0 \nL 469 0 \nL 469 531 \nQ 828 903 1448 1529 \nQ 2069 2156 2228 2338 \nQ 2531 2678 2651 2914 \nQ 2772 3150 2772 3378 \nQ 2772 3750 2511 3984 \nQ 2250 4219 1831 4219 \nQ 1534 4219 1204 4116 \nQ 875 4013 500 3803 \nL 500 4441 \nQ 881 4594 1212 4672 \nQ 1544 4750 1819 4750 \nQ 2544 4750 2975 4387 \nQ 3406 4025 3406 3419 \nQ 3406 3131 3298 2873 \nQ 3191 2616 2906 2266 \nQ 2828 2175 2409 1742 \nQ 1991 1309 1228 531 \nz\n\" id=\"DejaVuSans-32\" transform=\"scale(0.015625)\"/>\n      </defs>\n      <use xlink:href=\"#DejaVuSans-32\"/>\n     </g>\n    </g>\n   </g>\n   <g id=\"text_4\">\n    <g clip-path=\"url(#p5b7c0fc9ef)\">\n     <!-- c -->\n     <g transform=\"translate(45.355911 138.946784)scale(0.1625 -0.1625)\">\n      <defs>\n       <path d=\"M 3122 3366 \nL 3122 2828 \nQ 2878 2963 2633 3030 \nQ 2388 3097 2138 3097 \nQ 1578 3097 1268 2742 \nQ 959 2388 959 1747 \nQ 959 1106 1268 751 \nQ 1578 397 2138 397 \nQ 2388 397 2633 464 \nQ 2878 531 3122 666 \nL 3122 134 \nQ 2881 22 2623 -34 \nQ 2366 -91 2075 -91 \nQ 1284 -91 818 406 \nQ 353 903 353 1747 \nQ 353 2603 823 3093 \nQ 1294 3584 2113 3584 \nQ 2378 3584 2631 3529 \nQ 2884 3475 3122 3366 \nz\n\" id=\"DejaVuSans-63\" transform=\"scale(0.015625)\"/>\n      </defs>\n      <use xlink:href=\"#DejaVuSans-63\"/>\n     </g>\n    </g>\n   </g>\n  </g>\n </g>\n <defs>\n  <clipPath id=\"p5b7c0fc9ef\">\n   <rect height=\"154.5334\" width=\"110.722272\" x=\"7.2\" y=\"7.2\"/>\n  </clipPath>\n </defs>\n</svg>\n",
      "image/png": "[encoded data removed]"
     },
     "metadata": {}
    }
   ],
   "source": [
    "# 2 qubit CNOT example, where qubit 0 is the control qubit\n",
    "circuit = QuantumCircuit(2,2)\n",
    "circuit.cx(0,1)\n",
    "circuit.draw('mpl');"
   ]
  },
  {
   "source": [
    "#### Entanglement\n",
    "\n",
    "As previously stated, a pure state $\\ket{\\psi}_{AB}$ on system $A,B$ cannot be written as $\\ket{\\varphi}_A \\otimes \\ket{\\phi}_B$ if it is _entangled_\n",
    "\n",
    "#### Bell states\n",
    "\n",
    "There are four _Bell states_ that are maximally entangled. They are also built on an orthonormal basis:\n",
    "\n",
    "$$\n",
    "\\ket{\\psi^{00}} := \\frac{1}{\\sqrt{2}}(\\ket{00}+\\ket{11}) \\\\\n",
    "\\ket{\\psi^{01}} := (\\ket{01}+\\ket{10}) \\\\\n",
    "\\ket{\\psi^{10}} := \\frac{1}{\\sqrt{2}}(\\ket{00}-\\ket{11}) \\\\\n",
    "\\ket{\\psi^{11}} := (\\ket{01}-\\ket{10}) \\\\\n",
    "$$\n",
    "\n",
    "A generalized form of writing these is\n",
    "\n",
    "$$\n",
    "\\ket{\\psi^{ij}} = \\left(I \\otimes \\sigma_X^j \\cdot \\sigma_Z^i\\right)\\ket{\\psi^{00}}\n",
    "$$"
   ],
   "cell_type": "markdown",
   "metadata": {}
  },
  {
   "source": [
    "#### Creation of Bell states\n"
   ],
   "cell_type": "markdown",
   "metadata": {}
  },
  {
   "cell_type": "code",
   "execution_count": 11,
   "metadata": {},
   "outputs": [
    {
     "output_type": "display_data",
     "data": {
      "text/plain": "<Figure size 206.852x204.68 with 1 Axes>",
      "image/svg+xml": "<?xml version=\"1.0\" encoding=\"utf-8\" standalone=\"no\"?>\n<!DOCTYPE svg PUBLIC \"-//W3C//DTD SVG 1.1//EN\"\n  \"http://www.w3.org/Graphics/SVG/1.1/DTD/svg11.dtd\">\n<svg height=\"168.9334pt\" version=\"1.1\" viewBox=\"0 0 170.573272 168.9334\" width=\"170.573272pt\" xmlns=\"http://www.w3.org/2000/svg\" xmlns:xlink=\"http://www.w3.org/1999/xlink\">\n <metadata>\n  <rdf:RDF xmlns:cc=\"http://creativecommons.org/ns#\" xmlns:dc=\"http://purl.org/dc/elements/1.1/\" xmlns:rdf=\"http://www.w3.org/1999/02/22-rdf-syntax-ns#\">\n   <cc:Work>\n    <dc:type rdf:resource=\"http://purl.org/dc/dcmitype/StillImage\"/>\n    <dc:date>2021-07-14T21:58:08.533504</dc:date>\n    <dc:format>image/svg+xml</dc:format>\n    <dc:creator>\n     <cc:Agent>\n      <dc:title>Matplotlib v3.4.2, https://matplotlib.org/</dc:title>\n     </cc:Agent>\n    </dc:creator>\n   </cc:Work>\n  </rdf:RDF>\n </metadata>\n <defs>\n  <style type=\"text/css\">*{stroke-linecap:butt;stroke-linejoin:round;}</style>\n </defs>\n <g id=\"figure_1\">\n  <g id=\"patch_1\">\n   <path d=\"M 0 168.9334 \nL 170.573272 168.9334 \nL 170.573272 0 \nL 0 0 \nz\n\" style=\"fill:#ffffff;\"/>\n  </g>\n  <g id=\"axes_1\">\n   <g id=\"line2d_1\">\n    <path clip-path=\"url(#pc38989a4b0)\" d=\"M 63.381072 43.5608 \nL 158.828172 43.5608 \n\" style=\"fill:none;stroke:#000000;stroke-linecap:square;stroke-width:2;\"/>\n   </g>\n   <g id=\"line2d_2\">\n    <path clip-path=\"url(#pc38989a4b0)\" d=\"M 63.381072 89.0118 \nL 158.828172 89.0118 \n\" style=\"fill:none;stroke:#000000;stroke-linecap:square;stroke-width:2;\"/>\n   </g>\n   <g id=\"line2d_3\">\n    <path clip-path=\"url(#pc38989a4b0)\" d=\"M 63.381072 132.985643 \nL 158.828172 132.985643 \n\" style=\"fill:none;stroke:#778899;stroke-linecap:square;stroke-width:2;\"/>\n   </g>\n   <g id=\"line2d_4\">\n    <path clip-path=\"url(#pc38989a4b0)\" d=\"M 63.381072 135.939958 \nL 158.828172 135.939958 \n\" style=\"fill:none;stroke:#778899;stroke-linecap:square;stroke-width:2;\"/>\n   </g>\n   <g id=\"line2d_5\">\n    <path clip-path=\"url(#pc38989a4b0)\" d=\"M 133.375612 89.0118 \nL 133.375612 43.5608 \n\" style=\"fill:none;stroke:#6fa4ff;stroke-linecap:square;stroke-width:2;\"/>\n   </g>\n   <g id=\"line2d_6\">\n    <path clip-path=\"url(#pc38989a4b0)\" d=\"M 72.471272 139.0079 \nL 77.016372 129.9177 \n\" style=\"fill:none;stroke:#778899;stroke-linecap:square;stroke-width:1.5;\"/>\n   </g>\n   <g id=\"patch_2\">\n    <path clip-path=\"url(#pc38989a4b0)\" d=\"M 73.153037 58.332375 \nL 102.696187 58.332375 \nL 102.696187 28.789225 \nL 73.153037 28.789225 \nz\n\" style=\"fill:#6fa4ff;stroke:#6fa4ff;stroke-linejoin:miter;stroke-width:1.5;\"/>\n   </g>\n   <g id=\"patch_3\">\n    <path clip-path=\"url(#pc38989a4b0)\" d=\"M 133.375612 47.992273 \nC 134.550852 47.992273 135.678116 47.525345 136.509136 46.694324 \nC 137.340157 45.863304 137.807085 44.73604 137.807085 43.5608 \nC 137.807085 42.38556 137.340157 41.258296 136.509136 40.427276 \nC 135.678116 39.596255 134.550852 39.129328 133.375612 39.129328 \nC 132.200372 39.129328 131.073108 39.596255 130.242088 40.427276 \nC 129.411067 41.258296 128.94414 42.38556 128.94414 43.5608 \nC 128.94414 44.73604 129.411067 45.863304 130.242088 46.694324 \nC 131.073108 47.525345 132.200372 47.992273 133.375612 47.992273 \nz\n\" style=\"fill:#6fa4ff;stroke:#6fa4ff;stroke-linejoin:miter;stroke-width:1.5;\"/>\n   </g>\n   <g id=\"patch_4\">\n    <path clip-path=\"url(#pc38989a4b0)\" d=\"M 133.375612 99.351903 \nC 136.117839 99.351903 138.748121 98.262404 140.687169 96.323357 \nC 142.626216 94.384309 143.715715 91.754027 143.715715 89.0118 \nC 143.715715 86.269573 142.626216 83.639291 140.687169 81.700243 \nC 138.748121 79.761196 136.117839 78.671698 133.375612 78.671698 \nC 130.633385 78.671698 128.003103 79.761196 126.064055 81.700243 \nC 124.125008 83.639291 123.03551 86.269573 123.03551 89.0118 \nC 123.03551 91.754027 124.125008 94.384309 126.064055 96.323357 \nC 128.003103 98.262404 130.633385 99.351903 133.375612 99.351903 \nz\n\" style=\"fill:#6fa4ff;stroke:#6fa4ff;stroke-linejoin:miter;stroke-width:2;\"/>\n   </g>\n   <g id=\"line2d_7\">\n    <path clip-path=\"url(#pc38989a4b0)\" d=\"M 133.375612 94.92043 \nL 133.375612 83.10317 \n\" style=\"fill:none;stroke:#ffffff;stroke-linecap:square;stroke-width:2;\"/>\n   </g>\n   <g id=\"line2d_8\">\n    <path clip-path=\"url(#pc38989a4b0)\" d=\"M 127.466982 89.0118 \nL 139.284242 89.0118 \n\" style=\"fill:none;stroke:#ffffff;stroke-linecap:square;stroke-width:2;\"/>\n   </g>\n   <g id=\"text_1\">\n    <g clip-path=\"url(#pc38989a4b0)\">\n     <!-- H -->\n     <g transform=\"translate(83.036409 47.147988)scale(0.13 -0.13)\">\n      <defs>\n       <path d=\"M 628 4666 \nL 1259 4666 \nL 1259 2753 \nL 3553 2753 \nL 3553 4666 \nL 4184 4666 \nL 4184 0 \nL 3553 0 \nL 3553 2222 \nL 1259 2222 \nL 1259 0 \nL 628 0 \nL 628 4666 \nz\n\" id=\"DejaVuSans-48\" transform=\"scale(0.015625)\"/>\n      </defs>\n      <use xlink:href=\"#DejaVuSans-48\"/>\n     </g>\n    </g>\n   </g>\n   <g id=\"text_2\">\n    <g clip-path=\"url(#pc38989a4b0)\">\n     <!-- ${q}_{0}$ -->\n     <g transform=\"translate(36.253372 48.011777)scale(0.1625 -0.1625)\">\n      <defs>\n       <path d=\"M 2669 525 \nQ 2438 222 2123 65 \nQ 1809 -91 1428 -91 \nQ 897 -91 595 267 \nQ 294 625 294 1253 \nQ 294 1759 480 2231 \nQ 666 2703 1013 3078 \nQ 1238 3322 1530 3453 \nQ 1822 3584 2144 3584 \nQ 2531 3584 2781 3431 \nQ 3031 3278 3144 2969 \nL 3244 3494 \nL 3822 3494 \nL 2888 -1319 \nL 2309 -1319 \nL 2669 525 \nz\nM 891 1338 \nQ 891 875 1084 633 \nQ 1278 391 1644 391 \nQ 2188 391 2572 911 \nQ 2956 1431 2956 2175 \nQ 2956 2625 2757 2864 \nQ 2559 3103 2188 3103 \nQ 1916 3103 1684 2976 \nQ 1453 2850 1281 2606 \nQ 1100 2350 995 2006 \nQ 891 1663 891 1338 \nz\n\" id=\"DejaVuSans-Oblique-71\" transform=\"scale(0.015625)\"/>\n       <path d=\"M 2034 4250 \nQ 1547 4250 1301 3770 \nQ 1056 3291 1056 2328 \nQ 1056 1369 1301 889 \nQ 1547 409 2034 409 \nQ 2525 409 2770 889 \nQ 3016 1369 3016 2328 \nQ 3016 3291 2770 3770 \nQ 2525 4250 2034 4250 \nz\nM 2034 4750 \nQ 2819 4750 3233 4129 \nQ 3647 3509 3647 2328 \nQ 3647 1150 3233 529 \nQ 2819 -91 2034 -91 \nQ 1250 -91 836 529 \nQ 422 1150 422 2328 \nQ 422 3509 836 4129 \nQ 1250 4750 2034 4750 \nz\n\" id=\"DejaVuSans-30\" transform=\"scale(0.015625)\"/>\n      </defs>\n      <use xlink:href=\"#DejaVuSans-Oblique-71\"/>\n      <use transform=\"translate(63.476562 -16.40625)scale(0.7)\" xlink:href=\"#DejaVuSans-30\"/>\n     </g>\n    </g>\n   </g>\n   <g id=\"text_3\">\n    <g clip-path=\"url(#pc38989a4b0)\">\n     <!-- ${q}_{1}$ -->\n     <g transform=\"translate(36.253372 93.462777)scale(0.1625 -0.1625)\">\n      <defs>\n       <path d=\"M 794 531 \nL 1825 531 \nL 1825 4091 \nL 703 3866 \nL 703 4441 \nL 1819 4666 \nL 2450 4666 \nL 2450 531 \nL 3481 531 \nL 3481 0 \nL 794 0 \nL 794 531 \nz\n\" id=\"DejaVuSans-31\" transform=\"scale(0.015625)\"/>\n      </defs>\n      <use xlink:href=\"#DejaVuSans-Oblique-71\"/>\n      <use transform=\"translate(63.476562 -16.40625)scale(0.7)\" xlink:href=\"#DejaVuSans-31\"/>\n     </g>\n    </g>\n   </g>\n   <g id=\"text_4\">\n    <g clip-path=\"url(#pc38989a4b0)\">\n     <!-- 2 -->\n     <g transform=\"translate(67.926172 127.754825)scale(0.104 -0.104)\">\n      <defs>\n       <path d=\"M 1228 531 \nL 3431 531 \nL 3431 0 \nL 469 0 \nL 469 531 \nQ 828 903 1448 1529 \nQ 2069 2156 2228 2338 \nQ 2531 2678 2651 2914 \nQ 2772 3150 2772 3378 \nQ 2772 3750 2511 3984 \nQ 2250 4219 1831 4219 \nQ 1534 4219 1204 4116 \nQ 875 4013 500 3803 \nL 500 4441 \nQ 881 4594 1212 4672 \nQ 1544 4750 1819 4750 \nQ 2544 4750 2975 4387 \nQ 3406 4025 3406 3419 \nQ 3406 3131 3298 2873 \nQ 3191 2616 2906 2266 \nQ 2828 2175 2409 1742 \nQ 1991 1309 1228 531 \nz\n\" id=\"DejaVuSans-32\" transform=\"scale(0.015625)\"/>\n      </defs>\n      <use xlink:href=\"#DejaVuSans-32\"/>\n     </g>\n    </g>\n   </g>\n   <g id=\"text_5\">\n    <g clip-path=\"url(#pc38989a4b0)\">\n     <!-- c -->\n     <g transform=\"translate(45.355911 138.946784)scale(0.1625 -0.1625)\">\n      <defs>\n       <path d=\"M 3122 3366 \nL 3122 2828 \nQ 2878 2963 2633 3030 \nQ 2388 3097 2138 3097 \nQ 1578 3097 1268 2742 \nQ 959 2388 959 1747 \nQ 959 1106 1268 751 \nQ 1578 397 2138 397 \nQ 2388 397 2633 464 \nQ 2878 531 3122 666 \nL 3122 134 \nQ 2881 22 2623 -34 \nQ 2366 -91 2075 -91 \nQ 1284 -91 818 406 \nQ 353 903 353 1747 \nQ 353 2603 823 3093 \nQ 1294 3584 2113 3584 \nQ 2378 3584 2631 3529 \nQ 2884 3475 3122 3366 \nz\n\" id=\"DejaVuSans-63\" transform=\"scale(0.015625)\"/>\n      </defs>\n      <use xlink:href=\"#DejaVuSans-63\"/>\n     </g>\n    </g>\n   </g>\n  </g>\n </g>\n <defs>\n  <clipPath id=\"pc38989a4b0\">\n   <rect height=\"154.5334\" width=\"156.173272\" x=\"7.2\" y=\"7.2\"/>\n  </clipPath>\n </defs>\n</svg>\n",
      "image/png": "[encoded data removed]"
     },
     "metadata": {}
    }
   ],
   "source": [
    "circuit = QuantumCircuit(2,2)\n",
    "circuit.h(0)\n",
    "circuit.cx(0,1)\n",
    "circuit.draw('mpl');"
   ]
  },
  {
   "source": [
    "The circuit above is all that is needed to create a bell state. It turns the two qubits $\\ket{i}_A$ and $\\ket{j}_B$ into the bell state $\\ket{\\psi^{ij}}_{AB}$. The two intial qubits $\\ket{i}$ and $\\ket{j}$ will be written as $\\ket{ij}$ in the calculations below\n",
    "\n",
    "$$\n",
    "\\ket{00} \\rightarrow H_A \\rightarrow \\frac{\\ket{00} + \\ket{10}}{\\sqrt{2}} \\rightarrow CNOT_{AB} \\rightarrow \\frac{\\ket{00}+\\ket{11}}{\\sqrt{2}} = \\ket{\\psi^{00}} \\\\\n",
    "\\ket{01} \\rightarrow H_A \\rightarrow \\frac{\\ket{01} + \\ket{11}}{\\sqrt{2}} \\rightarrow CNOT_{AB} \\rightarrow \\frac{\\ket{01}+\\ket{10}}{\\sqrt{2}} = \\ket{\\psi^{01}} \\\\\n",
    "\\ket{10} \\rightarrow H_A \\rightarrow \\frac{\\ket{00} - \\ket{10}}{\\sqrt{2}} \\rightarrow CNOT_{AB} \\rightarrow \\frac{\\ket{00}-\\ket{11}}{\\sqrt{2}} = \\ket{\\psi^{10}} \\\\\n",
    "\\ket{11} \\rightarrow H_A \\rightarrow \\frac{\\ket{01} - \\ket{11}}{\\sqrt{2}} \\rightarrow CNOT_{AB} \\rightarrow \\frac{\\ket{01}-\\ket{10}}{\\sqrt{2}} = \\ket{\\psi^{11}} \\\\\n",
    "$$\n",
    "\n",
    "There exists an opposite direction bell measurment that takes in $\\ket{\\psi^{ij}}$ and gives out $i$ and $j$"
   ],
   "cell_type": "markdown",
   "metadata": {}
  },
  {
   "cell_type": "code",
   "execution_count": 10,
   "metadata": {},
   "outputs": [
    {
     "output_type": "display_data",
     "data": {
      "text/plain": "<Figure size 387.452x204.68 with 1 Axes>",
      "image/svg+xml": "<?xml version=\"1.0\" encoding=\"utf-8\" standalone=\"no\"?>\n<!DOCTYPE svg PUBLIC \"-//W3C//DTD SVG 1.1//EN\"\n  \"http://www.w3.org/Graphics/SVG/1.1/DTD/svg11.dtd\">\n<svg height=\"168.9334pt\" version=\"1.1\" viewBox=\"0 0 306.926272 168.9334\" width=\"306.926272pt\" xmlns=\"http://www.w3.org/2000/svg\" xmlns:xlink=\"http://www.w3.org/1999/xlink\">\n <metadata>\n  <rdf:RDF xmlns:cc=\"http://creativecommons.org/ns#\" xmlns:dc=\"http://purl.org/dc/elements/1.1/\" xmlns:rdf=\"http://www.w3.org/1999/02/22-rdf-syntax-ns#\">\n   <cc:Work>\n    <dc:type rdf:resource=\"http://purl.org/dc/dcmitype/StillImage\"/>\n    <dc:date>2021-07-14T21:58:03.742557</dc:date>\n    <dc:format>image/svg+xml</dc:format>\n    <dc:creator>\n     <cc:Agent>\n      <dc:title>Matplotlib v3.4.2, https://matplotlib.org/</dc:title>\n     </cc:Agent>\n    </dc:creator>\n   </cc:Work>\n  </rdf:RDF>\n </metadata>\n <defs>\n  <style type=\"text/css\">*{stroke-linecap:butt;stroke-linejoin:round;}</style>\n </defs>\n <g id=\"figure_1\">\n  <g id=\"patch_1\">\n   <path d=\"M 0 168.9334 \nL 306.926272 168.9334 \nL 306.926272 0 \nL 0 0 \nz\n\" style=\"fill:#ffffff;\"/>\n  </g>\n  <g id=\"axes_1\">\n   <g id=\"patch_2\">\n    <path clip-path=\"url(#p0f6b1c8f09)\" d=\"M 218.368982 124.122697 \nL 230.186242 124.122697 \nL 224.277612 132.64476 \nz\n\" style=\"fill:#778899;\"/>\n   </g>\n   <g id=\"patch_3\">\n    <path clip-path=\"url(#p0f6b1c8f09)\" d=\"M 263.819982 124.122697 \nL 275.637242 124.122697 \nL 269.728612 132.64476 \nz\n\" style=\"fill:#778899;\"/>\n   </g>\n   <g id=\"line2d_1\">\n    <path clip-path=\"url(#p0f6b1c8f09)\" d=\"M 63.381072 43.5608 \nL 295.181172 43.5608 \n\" style=\"fill:none;stroke:#000000;stroke-linecap:square;stroke-width:2;\"/>\n   </g>\n   <g id=\"line2d_2\">\n    <path clip-path=\"url(#p0f6b1c8f09)\" d=\"M 63.381072 89.0118 \nL 295.181172 89.0118 \n\" style=\"fill:none;stroke:#000000;stroke-linecap:square;stroke-width:2;\"/>\n   </g>\n   <g id=\"line2d_3\">\n    <path clip-path=\"url(#p0f6b1c8f09)\" d=\"M 63.381072 132.985642 \nL 295.181172 132.985642 \n\" style=\"fill:none;stroke:#778899;stroke-linecap:square;stroke-width:2;\"/>\n   </g>\n   <g id=\"line2d_4\">\n    <path clip-path=\"url(#p0f6b1c8f09)\" d=\"M 63.381072 135.939957 \nL 295.181172 135.939957 \n\" style=\"fill:none;stroke:#778899;stroke-linecap:square;stroke-width:2;\"/>\n   </g>\n   <g id=\"patch_4\">\n    <path clip-path=\"url(#p0f6b1c8f09)\" d=\"M 169.963667 66.2863 \nL 187.689557 66.2863 \nL 187.689557 20.8353 \nL 169.963667 20.8353 \nz\n\" style=\"fill:#bdbdbd;opacity:0.6;\"/>\n   </g>\n   <g id=\"patch_5\">\n    <path clip-path=\"url(#p0f6b1c8f09)\" d=\"M 169.963667 111.7373 \nL 187.689557 111.7373 \nL 187.689557 66.2863 \nL 169.963667 66.2863 \nz\n\" style=\"fill:#bdbdbd;opacity:0.6;\"/>\n   </g>\n   <g id=\"line2d_5\">\n    <path clip-path=\"url(#p0f6b1c8f09)\" d=\"M 87.924612 89.0118 \nL 87.924612 43.5608 \n\" style=\"fill:none;stroke:#6fa4ff;stroke-linecap:square;stroke-width:2;\"/>\n   </g>\n   <g id=\"line2d_6\">\n    <path clip-path=\"url(#p0f6b1c8f09)\" d=\"M 225.75477 43.5608 \nL 225.75477 124.122697 \n\" style=\"fill:none;stroke:#778899;stroke-linecap:square;stroke-width:2;\"/>\n   </g>\n   <g id=\"line2d_7\">\n    <path clip-path=\"url(#p0f6b1c8f09)\" d=\"M 222.800455 43.5608 \nL 222.800455 124.122697 \n\" style=\"fill:none;stroke:#778899;stroke-linecap:square;stroke-width:2;\"/>\n   </g>\n   <g id=\"line2d_8\">\n    <path clip-path=\"url(#p0f6b1c8f09)\" d=\"M 271.20577 89.0118 \nL 271.20577 124.122697 \n\" style=\"fill:none;stroke:#778899;stroke-linecap:square;stroke-width:2;\"/>\n   </g>\n   <g id=\"line2d_9\">\n    <path clip-path=\"url(#p0f6b1c8f09)\" d=\"M 268.251455 89.0118 \nL 268.251455 124.122697 \n\" style=\"fill:none;stroke:#778899;stroke-linecap:square;stroke-width:2;\"/>\n   </g>\n   <g id=\"line2d_10\">\n    <path clip-path=\"url(#p0f6b1c8f09)\" d=\"M 72.471272 139.0079 \nL 77.016372 129.9177 \n\" style=\"fill:none;stroke:#778899;stroke-linecap:square;stroke-width:1.5;\"/>\n   </g>\n   <g id=\"patch_6\">\n    <path clip-path=\"url(#p0f6b1c8f09)\" d=\"M 87.924612 47.992272 \nC 89.099852 47.992272 90.227116 47.525345 91.058136 46.694324 \nC 91.889157 45.863304 92.356085 44.73604 92.356085 43.5608 \nC 92.356085 42.38556 91.889157 41.258296 91.058136 40.427276 \nC 90.227116 39.596255 89.099852 39.129327 87.924612 39.129327 \nC 86.749372 39.129327 85.622108 39.596255 84.791088 40.427276 \nC 83.960067 41.258296 83.49314 42.38556 83.49314 43.5608 \nC 83.49314 44.73604 83.960067 45.863304 84.791088 46.694324 \nC 85.622108 47.525345 86.749372 47.992272 87.924612 47.992272 \nz\n\" style=\"fill:#6fa4ff;stroke:#6fa4ff;stroke-linejoin:miter;stroke-width:1.5;\"/>\n   </g>\n   <g id=\"patch_7\">\n    <path clip-path=\"url(#p0f6b1c8f09)\" d=\"M 87.924612 99.351902 \nC 90.666839 99.351902 93.297121 98.262404 95.236169 96.323357 \nC 97.175216 94.384309 98.264715 91.754027 98.264715 89.0118 \nC 98.264715 86.269573 97.175216 83.639291 95.236169 81.700243 \nC 93.297121 79.761196 90.666839 78.671697 87.924612 78.671697 \nC 85.182385 78.671697 82.552103 79.761196 80.613055 81.700243 \nC 78.674008 83.639291 77.58451 86.269573 77.58451 89.0118 \nC 77.58451 91.754027 78.674008 94.384309 80.613055 96.323357 \nC 82.552103 98.262404 85.182385 99.351902 87.924612 99.351902 \nz\n\" style=\"fill:#6fa4ff;stroke:#6fa4ff;stroke-linejoin:miter;stroke-width:2;\"/>\n   </g>\n   <g id=\"patch_8\">\n    <path clip-path=\"url(#p0f6b1c8f09)\" d=\"M 118.604037 58.332375 \nL 148.147187 58.332375 \nL 148.147187 28.789225 \nL 118.604037 28.789225 \nz\n\" style=\"fill:#6fa4ff;stroke:#6fa4ff;stroke-linejoin:miter;stroke-width:1.5;\"/>\n   </g>\n   <g id=\"patch_9\">\n    <path clip-path=\"url(#p0f6b1c8f09)\" d=\"M 209.506037 58.332375 \nL 239.049187 58.332375 \nL 239.049187 28.789225 \nL 209.506037 28.789225 \nz\n\" style=\"stroke:#000000;stroke-linejoin:miter;stroke-width:1.5;\"/>\n   </g>\n   <g id=\"patch_10\">\n    <path clip-path=\"url(#p0f6b1c8f09)\" d=\"M 234.617715 47.992272 \nC 234.617715 45.250959 233.52757 42.619118 231.589169 40.680716 \nC 229.650767 38.742314 227.018926 37.65217 224.277612 37.65217 \nC 221.536298 37.65217 218.904457 38.742314 216.966055 40.680716 \nC 215.027654 42.619118 213.93751 45.250959 213.93751 47.992272 \n\" style=\"fill:none;stroke:#ffffff;stroke-linejoin:miter;stroke-width:2;\"/>\n   </g>\n   <g id=\"patch_11\">\n    <path clip-path=\"url(#p0f6b1c8f09)\" d=\"M 254.957037 103.783375 \nL 284.500187 103.783375 \nL 284.500187 74.240225 \nL 254.957037 74.240225 \nz\n\" style=\"stroke:#000000;stroke-linejoin:miter;stroke-width:1.5;\"/>\n   </g>\n   <g id=\"patch_12\">\n    <path clip-path=\"url(#p0f6b1c8f09)\" d=\"M 280.068715 93.443272 \nC 280.068715 90.701959 278.97857 88.070118 277.040169 86.131716 \nC 275.101767 84.193314 272.469926 83.10317 269.728612 83.10317 \nC 266.987298 83.10317 264.355457 84.193314 262.417055 86.131716 \nC 260.478654 88.070118 259.38851 90.701959 259.38851 93.443272 \n\" style=\"fill:none;stroke:#ffffff;stroke-linejoin:miter;stroke-width:2;\"/>\n   </g>\n   <g id=\"line2d_11\">\n    <path clip-path=\"url(#p0f6b1c8f09)\" d=\"M 224.277612 47.992272 \nL 234.617715 37.65217 \n\" style=\"fill:none;stroke:#ffffff;stroke-linecap:square;stroke-width:2;\"/>\n   </g>\n   <g id=\"line2d_12\">\n    <path clip-path=\"url(#p0f6b1c8f09)\" d=\"M 269.728612 93.443272 \nL 280.068715 83.10317 \n\" style=\"fill:none;stroke:#ffffff;stroke-linecap:square;stroke-width:2;\"/>\n   </g>\n   <g id=\"line2d_13\">\n    <path clip-path=\"url(#p0f6b1c8f09)\" d=\"M 87.924612 94.92043 \nL 87.924612 83.10317 \n\" style=\"fill:none;stroke:#ffffff;stroke-linecap:square;stroke-width:2;\"/>\n   </g>\n   <g id=\"line2d_14\">\n    <path clip-path=\"url(#p0f6b1c8f09)\" d=\"M 82.015982 89.0118 \nL 93.833242 89.0118 \n\" style=\"fill:none;stroke:#ffffff;stroke-linecap:square;stroke-width:2;\"/>\n   </g>\n   <g id=\"line2d_15\">\n    <path clip-path=\"url(#p0f6b1c8f09)\" d=\"M 178.826612 20.8353 \nL 178.826612 66.2863 \n\" style=\"fill:none;stroke:#000000;stroke-dasharray:3.7,1.6;stroke-dashoffset:0;\"/>\n   </g>\n   <g id=\"line2d_16\">\n    <path clip-path=\"url(#p0f6b1c8f09)\" d=\"M 178.826612 66.2863 \nL 178.826612 111.7373 \n\" style=\"fill:none;stroke:#000000;stroke-dasharray:3.7,1.6;stroke-dashoffset:0;\"/>\n   </g>\n   <g id=\"text_1\">\n    <g clip-path=\"url(#p0f6b1c8f09)\">\n     <!-- H -->\n     <g transform=\"translate(128.487409 47.147987)scale(0.13 -0.13)\">\n      <defs>\n       <path d=\"M 628 4666 \nL 1259 4666 \nL 1259 2753 \nL 3553 2753 \nL 3553 4666 \nL 4184 4666 \nL 4184 0 \nL 3553 0 \nL 3553 2222 \nL 1259 2222 \nL 1259 0 \nL 628 0 \nL 628 4666 \nz\n\" id=\"DejaVuSans-48\" transform=\"scale(0.015625)\"/>\n      </defs>\n      <use xlink:href=\"#DejaVuSans-48\"/>\n     </g>\n    </g>\n   </g>\n   <g id=\"text_2\">\n    <g clip-path=\"url(#p0f6b1c8f09)\">\n     <!-- 0 -->\n     <g transform=\"translate(235.640362 127.754825)scale(0.104 -0.104)\">\n      <defs>\n       <path d=\"M 2034 4250 \nQ 1547 4250 1301 3770 \nQ 1056 3291 1056 2328 \nQ 1056 1369 1301 889 \nQ 1547 409 2034 409 \nQ 2525 409 2770 889 \nQ 3016 1369 3016 2328 \nQ 3016 3291 2770 3770 \nQ 2525 4250 2034 4250 \nz\nM 2034 4750 \nQ 2819 4750 3233 4129 \nQ 3647 3509 3647 2328 \nQ 3647 1150 3233 529 \nQ 2819 -91 2034 -91 \nQ 1250 -91 836 529 \nQ 422 1150 422 2328 \nQ 422 3509 836 4129 \nQ 1250 4750 2034 4750 \nz\n\" id=\"DejaVuSans-30\" transform=\"scale(0.015625)\"/>\n      </defs>\n      <use xlink:href=\"#DejaVuSans-30\"/>\n     </g>\n    </g>\n   </g>\n   <g id=\"text_3\">\n    <g clip-path=\"url(#p0f6b1c8f09)\">\n     <!-- 1 -->\n     <g transform=\"translate(281.091362 127.754825)scale(0.104 -0.104)\">\n      <defs>\n       <path d=\"M 794 531 \nL 1825 531 \nL 1825 4091 \nL 703 3866 \nL 703 4441 \nL 1819 4666 \nL 2450 4666 \nL 2450 531 \nL 3481 531 \nL 3481 0 \nL 794 0 \nL 794 531 \nz\n\" id=\"DejaVuSans-31\" transform=\"scale(0.015625)\"/>\n      </defs>\n      <use xlink:href=\"#DejaVuSans-31\"/>\n     </g>\n    </g>\n   </g>\n   <g id=\"text_4\">\n    <g clip-path=\"url(#p0f6b1c8f09)\">\n     <!-- ${q}_{0}$ -->\n     <g transform=\"translate(36.253372 48.011777)scale(0.1625 -0.1625)\">\n      <defs>\n       <path d=\"M 2669 525 \nQ 2438 222 2123 65 \nQ 1809 -91 1428 -91 \nQ 897 -91 595 267 \nQ 294 625 294 1253 \nQ 294 1759 480 2231 \nQ 666 2703 1013 3078 \nQ 1238 3322 1530 3453 \nQ 1822 3584 2144 3584 \nQ 2531 3584 2781 3431 \nQ 3031 3278 3144 2969 \nL 3244 3494 \nL 3822 3494 \nL 2888 -1319 \nL 2309 -1319 \nL 2669 525 \nz\nM 891 1338 \nQ 891 875 1084 633 \nQ 1278 391 1644 391 \nQ 2188 391 2572 911 \nQ 2956 1431 2956 2175 \nQ 2956 2625 2757 2864 \nQ 2559 3103 2188 3103 \nQ 1916 3103 1684 2976 \nQ 1453 2850 1281 2606 \nQ 1100 2350 995 2006 \nQ 891 1663 891 1338 \nz\n\" id=\"DejaVuSans-Oblique-71\" transform=\"scale(0.015625)\"/>\n      </defs>\n      <use xlink:href=\"#DejaVuSans-Oblique-71\"/>\n      <use transform=\"translate(63.476562 -16.40625)scale(0.7)\" xlink:href=\"#DejaVuSans-30\"/>\n     </g>\n    </g>\n   </g>\n   <g id=\"text_5\">\n    <g clip-path=\"url(#p0f6b1c8f09)\">\n     <!-- ${q}_{1}$ -->\n     <g transform=\"translate(36.253372 93.462777)scale(0.1625 -0.1625)\">\n      <use xlink:href=\"#DejaVuSans-Oblique-71\"/>\n      <use transform=\"translate(63.476562 -16.40625)scale(0.7)\" xlink:href=\"#DejaVuSans-31\"/>\n     </g>\n    </g>\n   </g>\n   <g id=\"text_6\">\n    <g clip-path=\"url(#p0f6b1c8f09)\">\n     <!-- 2 -->\n     <g transform=\"translate(67.926172 127.754825)scale(0.104 -0.104)\">\n      <defs>\n       <path d=\"M 1228 531 \nL 3431 531 \nL 3431 0 \nL 469 0 \nL 469 531 \nQ 828 903 1448 1529 \nQ 2069 2156 2228 2338 \nQ 2531 2678 2651 2914 \nQ 2772 3150 2772 3378 \nQ 2772 3750 2511 3984 \nQ 2250 4219 1831 4219 \nQ 1534 4219 1204 4116 \nQ 875 4013 500 3803 \nL 500 4441 \nQ 881 4594 1212 4672 \nQ 1544 4750 1819 4750 \nQ 2544 4750 2975 4387 \nQ 3406 4025 3406 3419 \nQ 3406 3131 3298 2873 \nQ 3191 2616 2906 2266 \nQ 2828 2175 2409 1742 \nQ 1991 1309 1228 531 \nz\n\" id=\"DejaVuSans-32\" transform=\"scale(0.015625)\"/>\n      </defs>\n      <use xlink:href=\"#DejaVuSans-32\"/>\n     </g>\n    </g>\n   </g>\n   <g id=\"text_7\">\n    <g clip-path=\"url(#p0f6b1c8f09)\">\n     <!-- c -->\n     <g transform=\"translate(45.355911 138.946784)scale(0.1625 -0.1625)\">\n      <defs>\n       <path d=\"M 3122 3366 \nL 3122 2828 \nQ 2878 2963 2633 3030 \nQ 2388 3097 2138 3097 \nQ 1578 3097 1268 2742 \nQ 959 2388 959 1747 \nQ 959 1106 1268 751 \nQ 1578 397 2138 397 \nQ 2388 397 2633 464 \nQ 2878 531 3122 666 \nL 3122 134 \nQ 2881 22 2623 -34 \nQ 2366 -91 2075 -91 \nQ 1284 -91 818 406 \nQ 353 903 353 1747 \nQ 353 2603 823 3093 \nQ 1294 3584 2113 3584 \nQ 2378 3584 2631 3529 \nQ 2884 3475 3122 3366 \nz\n\" id=\"DejaVuSans-63\" transform=\"scale(0.015625)\"/>\n      </defs>\n      <use xlink:href=\"#DejaVuSans-63\"/>\n     </g>\n    </g>\n   </g>\n  </g>\n </g>\n <defs>\n  <clipPath id=\"p0f6b1c8f09\">\n   <rect height=\"154.5334\" width=\"292.526272\" x=\"7.2\" y=\"7.2\"/>\n  </clipPath>\n </defs>\n</svg>\n",
      "image/png": "[encoded data removed]"
     },
     "metadata": {}
    }
   ],
   "source": [
    "circuit = QuantumCircuit(2,2)\n",
    "circuit.cx(0,1)\n",
    "circuit.h(0)\n",
    "circuit.barrier()\n",
    "circuit.measure([0,1],[0,1])\n",
    "circuit.draw('mpl');"
   ]
  },
  {
   "source": [
    "#### Teleportation\n",
    "\n",
    "_Situation:_ \n",
    "\n",
    "A(lice) wants to send her _unkown_ state $\\ket{\\phi}_S := \\alpha\\ket{0}_S + \\beta\\ket{1}_S$ to B(ob).\n",
    "The problem is, she can only send him two classical bits. Both A and B share the maximal entangled state $\\ket{\\psi^{00}}_{AB}$\n",
    "\n",
    "The initial state of the total system is as follows:\n",
    "\n",
    "$$\n",
    "\\ket{\\phi}_S \\otimes \\ket{\\psi^{00}}_{AB} = \\frac{1}{\\sqrt{2}}\\left(\\alpha\\ket{000}_{SAB} + \\alpha\\ket{011}_{SAB} + \\beta\\ket{100}_{SAB}+\\beta\\ket{111}_{SAB}\\right) \\\\\n",
    "= \\frac{1}{2\\sqrt{2}}\n",
    "    \\left[\n",
    "        \\left(\\ket{00}_{SA}+\\ket{11}_{SA}\\right)\\otimes\\left(\\alpha\\ket{0}_{B}+\\beta\\ket{1}_{B}\\right) + \\\\\n",
    "        \\left(\\ket{01}_{SA}+\\ket{10}_{SA}\\right)\\otimes\\left(\\alpha\\ket{1}_{B}+\\beta\\ket{0}_{B}\\right) + \\\\\n",
    "        \\left(\\ket{00}_{SA}-\\ket{11}_{SA}\\right)\\otimes\\left(\\alpha\\ket{0}_{B}-\\beta\\ket{1}_{B}\\right) + \\\\\n",
    "        \\left(\\ket{01}_{SA}-\\ket{10}_{SA}\\right)\\otimes\\left(\\alpha\\ket{1}_{B}-\\beta\\ket{0}_{B}\\right)\n",
    "    \\right] \\\\\n",
    "= \\frac{1}{2}\n",
    "    \\left[\n",
    "        \\ket{\\psi^{00}}_{SA}\\otimes\\ket{\\phi}_B + \n",
    "        \\ket{\\psi^{01}}_{SA}\\otimes\\left(\\sigma_X\\ket{\\phi}_B\\right) + \n",
    "        \\ket{\\psi^{10}}_{SA}\\otimes\\left(\\sigma_Z\\ket{\\phi}_B\\right) + \n",
    "        \\ket{\\psi^{11}}_{SA}\\otimes\\left(\\sigma_X\\sigma_Z\\ket{\\phi}_B\\right) \n",
    "    \\right]\n",
    "$$\n",
    "\n",
    "This means that the execution happens as follows. A measures $\\ket{\\psi^{ij}}$ and as shown before, this measurment collapses into a certain state for A and B\n",
    "\n",
    "$$\n",
    "\\ket{\\psi^{00}} \\rightarrow \\ket{\\phi}_B\\\\\n",
    "\\ket{\\psi^{01}} \\rightarrow \\sigma_X\\ket{\\phi}_B\\\\\n",
    "\\ket{\\psi^{10}} \\rightarrow \\sigma_Z\\ket{\\phi}_B\\\\\n",
    "\\ket{\\psi^{11}} \\rightarrow \\sigma_X\\sigma_Z\\ket{\\phi}_B\\\\\n",
    "$$\n",
    "\n",
    "Now, lets show how A can tell B using 2 classical bits, what the state is:\n",
    "\n",
    "$$\n",
    "\\ket{\\psi^{00}} \\otimes \\ket{\\phi}_B \\rightarrow \\text{A sends}\\  0 0 \\rightarrow \\text{B applies}\\ I \\rightarrow \\ket{\\phi}_B \\\\\n",
    "\\ket{\\psi^{01}} \\otimes \\sigma_X\\ket{\\phi}_B \\rightarrow \\text{A sends}\\  0 1 \\rightarrow \\text{B applies}\\ \\sigma_X \\rightarrow \\ket{\\phi}_B \\\\\n",
    "\\ket{\\psi^{10}} \\otimes \\sigma_Z\\ket{\\phi}_B \\rightarrow \\text{A sends}\\  1 0 \\rightarrow \\text{B applies}\\ \\sigma_Z \\rightarrow \\ket{\\phi}_B \\\\\n",
    "\\ket{\\psi^{11}} \\otimes \\sigma_X\\sigma_Z\\ket{\\phi}_B \\rightarrow \\text{A sends}\\  1 1 \\rightarrow \\text{B applies}\\ \\sigma_X\\sigma_Z \\rightarrow \\ket{\\phi}_B \\\\\n",
    "$$\n",
    "\n",
    "\n",
    "_**Remark**_\n",
    "\n",
    "Due to the _no cloning theorem_, As state collapses during the measurment, so she loses the initial state $\\ket{\\phi}$. She cannot copy her state, only send it to B when destroying her own."
   ],
   "cell_type": "markdown",
   "metadata": {}
  }
 ]
}