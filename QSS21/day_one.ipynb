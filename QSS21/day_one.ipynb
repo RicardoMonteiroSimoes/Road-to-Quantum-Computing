{
 "metadata": {
  "language_info": {
   "codemirror_mode": {
    "name": "ipython",
    "version": 3
   },
   "file_extension": ".py",
   "mimetype": "text/x-python",
   "name": "python",
   "nbconvert_exporter": "python",
   "pygments_lexer": "ipython3",
   "version": "3.9.5"
  },
  "orig_nbformat": 4,
  "kernelspec": {
   "name": "python3",
   "display_name": "Python 3.9.5 64-bit ('qiskit': conda)"
  },
  "interpreter": {
   "hash": "77376bfcf204d720c875ec388b8a00e9ab97084e7e7d4d073e071ae3fccf74ec"
  }
 },
 "nbformat": 4,
 "nbformat_minor": 2,
 "cells": [
  {
   "source": [
    "# Qiskit Summer School 2021\n",
    "## Day 1\n",
    "\n",
    "\n",
    "These are my personal notes & interpretations of the lectures done on the first day of the 2021 Qiskit summer school."
   ],
   "cell_type": "markdown",
   "metadata": {}
  },
  {
   "cell_type": "code",
   "execution_count": 1,
   "metadata": {},
   "outputs": [],
   "source": [
    "#imports that will be needed\n",
    "#Lets start with the needed imports\n",
    "import numpy as np\n",
    "from qiskit import QuantumCircuit, transpile\n",
    "from qiskit.providers.aer import QasmSimulator\n",
    "from qiskit.visualization import plot_histogram"
   ]
  },
  {
   "source": [
    "### Lecture 1.1 \n",
    "\n",
    "#### Dirac-Notation\n",
    "\n",
    "$$\n",
    "\\newcommand{\\ket}[1]{\\left|{#1}\\right\\rangle}\n",
    "\\newcommand{\\bra}[1]{\\left\\langle{#1}\\right|}\n",
    "\\newcommand{\\braket}[2]{\\left\\langle{#1}\\middle|{#2}\\right\\rangle}\n",
    "\\newcommand{\\ketbra}[2]{\\left|{#1}\\middle\\rangle\\langle{#2}\\right|}\n",
    "$$\n",
    "\n",
    "_ket_\n",
    "\n",
    "$\\ket{a} = \\begin{pmatrix} a_0 \\\\ a_1 \\end{pmatrix}$\n",
    "\n",
    "_bra_\n",
    "\n",
    "$\\bra{b} = \\ket{b}^\\dagger = \\begin{pmatrix} b_0 \\\\ b_1 \\end{pmatrix}^\\dagger = \\left(\\begin{pmatrix} b_0 \\\\ b_1 \\end{pmatrix}^T\\right)^* = \\begin{pmatrix} b_0^* & b_1^* \\end{pmatrix}$\n",
    "\n",
    "_bra-ket_\n",
    "\n",
    "$\\braket{b}{a} = a_0b_0^3 + a_1b_1^* = \\braket{a}{b}^*$\n",
    "\n",
    "_ket-bra_\n",
    "\n",
    "$\\ketbra{a}{b} = \\begin{pmatrix} a_0b_0^* & a_0b_1^* \\\\ a_1b_0^* & a_1b_1^*\\end{pmatrix}$\n",
    "\n"
   ],
   "cell_type": "markdown",
   "metadata": {}
  },
  {
   "source": [
    "#### States\n",
    "\n",
    "There are the pure states, defines as $\\ket{0} = \\begin{pmatrix}1 \\\\ 0\\end{pmatrix}$ and $\\ket{1} = \\begin{pmatrix}0 \\\\ 1\\end{pmatrix}$. They are orthogonal to eachother, which means:\n",
    "\n",
    "$\\braket{0}{1} = 1 \\cdot 0 + 0 \\cdot 1 = 0$\n",
    "\n",
    "$$\n",
    "\\ketbra{0}{0} = \\begin{pmatrix}1 & 0\\end{pmatrix} \\cdot \\begin{pmatrix}1 \\\\ 0\\end{pmatrix} = \\begin{pmatrix}1 & 0 \\\\ 0 & 0\\end{pmatrix} \\\\\n",
    "\\ketbra{1}{1} = \\begin{pmatrix}0 & 1\\end{pmatrix} \\cdot \\begin{pmatrix}0 \\\\ 1\\end{pmatrix} = \\begin{pmatrix}0 & 0 \\\\ 0 & 1\\end{pmatrix}\n",
    "$$\n",
    "\n",
    "This means there is a general description using the Dirac notationfor any matrix:\n",
    "\n",
    "$$\n",
    "\\rho = \\begin{pmatrix}\\rho_{00} & \\rho_{01} \\\\ \\rho_{10} & \\rho_{11}\\end{pmatrix} = \\rho_{00} \\cdot \\ketbra{0}{0} + \\rho_{01} \\cdot \\ketbra{0}{1} + \\rho_{10} \\cdot \\ketbra{1}{0} + \\rho_{11} \\cdot \\ketbra{1}{1}\n",
    "$$\n",
    "\n",
    "**=> All quantum states can be described by _density matrices_**"
   ],
   "cell_type": "markdown",
   "metadata": {}
  },
  {
   "source": [
    "#### Density matrices\n",
    "\n",
    "Definiton: _normalized, positive, Hermitian operators_, usually called $\\rho$\n",
    "\n",
    "**Normalized:** $tr(\\rho) = 1 \\\\ $\n",
    "$tr(x) :=$ _trace of_ $x$ \n",
    "\n",
    "The trace of a $m \\times m$ matrix is the sum over its main-diagonal, so:\n",
    "\n",
    "$$\n",
    "A = \\begin{pmatrix}a_{00} & \\cdot \\cdot & a_{0n} \\\\ \\cdot \\cdot & \\cdot \\cdot & \\cdot \\cdot \\\\ a_{n0} & \\cdot \\cdot & a_{nn}\\end{pmatrix} \\\\\n",
    "$$\n",
    "\n",
    "and then\n",
    "\n",
    "$$\n",
    "tr(A) = \\Sigma_{i=0}^n a_{ii} \n",
    "$$\n",
    "\n",
    "**Positive:** $\\rho \\geq 0$\n",
    "\n",
    "**Hermitian:** $\\rho = \\rho^\\dagger$\n",
    "\n",
    "---\n",
    "\n",
    "$$\n",
    "tr(\\rho) = \\rho_{00}+\\rho{11} = 1 \\\\\n",
    "$$\n",
    "\n",
    "If we take any vector $\\psi$ and put $\\rho$ in its middle, the result has to be larger or equal to 0, positive, semi definite_, for any $\\psi$ \n",
    "\n",
    "$$\n",
    "\\bra{\\psi}\\rho\\ket{\\psi} \\geq 0 \\ \\forall \\ \\psi \\ \\Leftrightarrow \\text{all eigenvalues of } \\rho \\geq 0\n",
    "$$\n",
    "\n",
    "The hermitian operator is defined as follows:\n",
    "\n",
    "$$\n",
    "\\rho^\\dagger = \\begin{pmatrix}\\rho_{00}^* & \\rho_{10}^* \\\\ \\rho_{01}^* & \\rho_{11}^*\\end{pmatrix} = \\rho\n",
    "$$\n",
    "\n",
    "\n",
    "---\n",
    "\n",
    "All quantum states are normalized!\n",
    "\n",
    "$$\n",
    "\\braket{\\phi}{\\phi} = 1\n",
    "$$"
   ],
   "cell_type": "markdown",
   "metadata": {}
  },
  {
   "source": [
    "#### Spectral decomposition\n",
    "\n",
    "\n"
   ],
   "cell_type": "markdown",
   "metadata": {}
  }
 ]
}