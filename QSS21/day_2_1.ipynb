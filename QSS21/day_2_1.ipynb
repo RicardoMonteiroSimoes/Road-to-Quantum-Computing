{
 "metadata": {
  "language_info": {
   "codemirror_mode": {
    "name": "ipython",
    "version": 3
   },
   "file_extension": ".py",
   "mimetype": "text/x-python",
   "name": "python",
   "nbconvert_exporter": "python",
   "pygments_lexer": "ipython3",
   "version": 3
  },
  "orig_nbformat": 4
 },
 "nbformat": 4,
 "nbformat_minor": 2,
 "cells": [
  {
   "source": [
    "# Qiskit Summer School 2021\n",
    "## Day 2 Lecture 1\n",
    "\n",
    "\n",
    "These are my personal notes & interpretations of the lectures done on the first day of the 2021 Qiskit summer school.\n",
    "\n",
    "$$\n",
    "\\newcommand{\\ket}[1]{\\left|{#1}\\right\\rangle}\n",
    "\\newcommand{\\bra}[1]{\\left\\langle{#1}\\right|}\n",
    "\\newcommand{\\braket}[2]{\\left\\langle{#1}\\middle|{#2}\\right\\rangle}\n",
    "\\newcommand{\\ketbra}[2]{\\left|{#1}\\middle\\rangle\\langle{#2}\\right|}\n",
    "\\newenvironment{rcases}\n",
    "  {\\left.\\begin{aligned}}\n",
    "  {\\end{aligned}\\right\\rbrace}\n",
    "$$"
   ],
   "cell_type": "markdown",
   "metadata": {}
  },
  {
   "cell_type": "code",
   "execution_count": null,
   "metadata": {},
   "outputs": [],
   "source": [
    "import numpy as np\n",
    "from qiskit import QuantumCircuit, transpile\n",
    "from qiskit.providers.aer import QasmSimulator\n",
    "from qiskit.visualization import plot_histogram"
   ]
  },
  {
   "source": [
    "#### Deutsch-Jozsa algorithm\n",
    "\n",
    "**Oracles**\n",
    "\n",
    "_Situation:_ We have acces to an _oracle_ (physical black box) that we cannot look inside. The oracle can receive queries and returns answers.\n",
    "We now want to determine some property of the oracle using the least amount of queries.\n",
    "\n",
    "- In a classical computer, such an oracle is defined as a function $f:\\{0,1\\}^n \\rightarrow \\{0,1\\}^m$, which takes in an _input string_ and outputs an _output string_.\n",
    "- On a quantum computer, the oracle must be reversible (remember quantum theory!)\n",
    "\n",
    "$x: n$ qubits and $y: m$ qubits as input of $O_f$ (oracle) that outputs $x$ and $y \\oplus f(x)$\n",
    "\n",
    "$O_f$ is a _bit oracle_ and can be seen as unitary. It performs on the map $O_f\\ket{x}\\ket{y} = \\ket{x}\\ket{y\\oplus f(x)}$\n",
    "\n",
    "for $f:\\{0,1\\}^n \\rightarrow \\{0,1\\}$ we can construct $U_f$ so that\n",
    "\n",
    "as input we take qubit $x$ and we get qubit $U_f\\ket{x}$  as output. The oracle lives inside the function $U_f$ and has an internal _input_ that is qubit $y$ of the form $y = \\frac{1}{\\sqrt{2}}\\left(\\ket{0}-\\ket{1}\\right)$, also called the _ancilla qubit_\n",
    "\n",
    "\n",
    "#### Calculations\n",
    "\n",
    "$$\n",
    "O_f \\ket{x} \\ket{y} = \\frac{1}{\\sqrt{2}} \\left( \\ket{x} \\ket{0 \\oplus f(x)} - \\ket{x} \\ket{1 \\oplus f(x)}\\right)\\\\\n",
    "= \\begin{cases} \n",
    "      \\frac{1}{\\sqrt{2}}\\left(\\ket{0}-\\ket{1}\\right) = \\ket{x}\\ket{y}, \\text{if} \\ f(x) = 0 \\\\\n",
    "      \\frac{1}{\\sqrt{2}}\\left(\\ket{1}-\\ket{0}\\right) = -\\ket{x}\\ket{y}, \\text{if} \\ f(x) = 1 \\\\\n",
    "   \\end{cases} \\\\\n",
    "   \\\\\n",
    "\\Rightarrow (-1)^{f(x)}\\ket{x}\\ket{y}\n",
    "$$\n",
    "\n",
    "This shows that the whole construct is _independent_ of $y$, which is why we call in an _ancilla qubit_ $\\Rightarrow U_f$ is a _phase oracle_ (only adds a phase), which performs the map $U_f\\ket{x} = (-1)^{f(x)}\\ket{x}$\n",
    "\n"
   ],
   "cell_type": "markdown",
   "metadata": {}
  },
  {
   "source": [
    "#### Hadamard on _n_ qubits\n",
    "\n",
    "_Recall:_ $H\\ket{0} = \\ket{+}$ and $H\\ket{1} = \\ket{-}$\n",
    "\n",
    "for $\\ket{x} = \\ket{01}:$\n",
    "\n",
    "$$\n",
    "\\begin{rcases} \n",
    "\\ket{0} \\rightarrow H \\rightarrow \\ket{+} \\\\\n",
    "\\ket{1} \\rightarrow H \\rightarrow \\ket{-}\n",
    "\\end{rcases} \\ket{y} = \\ket{+} \\otimes \\ket{-} = \\frac{1}{2} \\left(\\ket{00} - \\ket{10} + \\ket{10} - \\ket{11}\\right)\n",
    "$$\n",
    "\n",
    "In a generalized form:\n",
    "\n",
    "$$\n",
    "\\ket{x} = \\left\\{\\!\\begin{aligned}\n",
    "    \\ket{x_0} \\rightarrow H \\rightarrow \\ket{y_0} \\\\\n",
    "    \\ket{x_1} \\rightarrow H \\rightarrow \\ket{y_1} \\\\\n",
    "    ... \\\\\n",
    "    \\ket{x_{n-1}} \\rightarrow H \\rightarrow \\ket{y_{n-1}} \\\\\n",
    "\\end{aligned}\\right\\} \n",
    "\\ket{y} = H^{\\otimes b}\\ket{x} = \\frac{1}{\\sqrt{2}}\\Sigma_{k \\in \\{0,1\\}^n} (-1)^{k\\cdot x}\\ket{k}\n",
    "$$\n",
    "\n",
    "As every $\\ket{y_i}$ is either $\\ket{+}$ or $\\ket{-}$, $\\ket{y}$ must be a superposition of all possible $2^n$ bit strings. Lets look at it in the form of a circuit:"
   ],
   "cell_type": "markdown",
   "metadata": {}
  },
  {
   "source": [
    "#### Deutsch-Jozsa algorithm, for real now\n",
    "\n",
    "We receive a function $f:\\{0,1\\}^n \\rightarrow \\{0,1\\}$ that is realized by an oracle. Of the oracle, we know that it is either _constant_ (all inputs map to the same output), or _balanced_ (the amount of inputs that map to 0 and 1 is equal)\n",
    "\n",
    "The goal is to determine whether $f$ is constant or _balanced_\n",
    "\n",
    "**The classical solution** needs to ask the oracle atleast _twice_, but if we get the same output again, we need to ask once more. So at most $\\frac{N}{2}+1 = 2^{n-1}+1$ queries. Where $n$ is the number of input bits and $N = 2^n$ the amount of realizable bit strings. This means we need between $2$ and $2^{n-1}+1$ queries!\n",
    "\n",
    "**The quantum solution** needs only one query! The circuit is as follows:\n",
    "\n",
    "$$\n",
    "n \\text{ qubits }\n",
    "\\left\\{\\!\\begin{aligned}\n",
    "    \\ket{0} \\rightarrow H \\rightarrow \\ket{y_0} \\\\\n",
    "    \\ket{x_1} \\rightarrow H \\rightarrow \\ket{y_1} \\\\\n",
    "    ... \\\\\n",
    "    \\ket{x_{n-1}} \\rightarrow H \\rightarrow \\ket{y_{n-1}} \\\\\n",
    "\\end{aligned}\\right\\} y\n",
    "$$\n",
    "\n",
    "\n"
   ],
   "cell_type": "markdown",
   "metadata": {}
  }
 ]
}